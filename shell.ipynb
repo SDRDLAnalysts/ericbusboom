{
 "metadata": {
  "name": "",
  "signature": "sha256:b1ff87f41fc4474c6d96324c2006335423eff5520fa9e1f9a92eb7ad58b81073"
 },
 "nbformat": 3,
 "nbformat_minor": 0,
 "worksheets": []
}