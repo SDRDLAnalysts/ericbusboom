{
 "metadata": {
  "name": "",
  "signature": "sha256:2582ae71d3b8e28773f23cc0ffe607a83d83dd6d5395dc5a5940f6382ff810a4"
 },
 "nbformat": 3,
 "nbformat_minor": 0,
 "worksheets": [
  {
   "cells": [
    {
     "cell_type": "code",
     "collapsed": false,
     "input": [
      "!pip install seaborn\n"
     ],
     "language": "python",
     "metadata": {},
     "outputs": [
      {
       "output_type": "stream",
       "stream": "stdout",
       "text": [
        "Requirement already satisfied (use --upgrade to upgrade): seaborn in /usr/local/lib/python2.7/dist-packages\r\n"
       ]
      },
      {
       "output_type": "stream",
       "stream": "stdout",
       "text": [
        "Requirement already satisfied (use --upgrade to upgrade): pandas in /usr/local/lib/python2.7/dist-packages (from seaborn)\r\n",
        "Requirement already satisfied (use --upgrade to upgrade): python-dateutil in /usr/local/lib/python2.7/dist-packages (from pandas->seaborn)\r\n",
        "Requirement already satisfied (use --upgrade to upgrade): pytz>=2011k in /usr/local/lib/python2.7/dist-packages (from pandas->seaborn)\r\n",
        "Requirement already satisfied (use --upgrade to upgrade): numpy>=1.6.1 in /usr/local/lib/python2.7/dist-packages (from pandas->seaborn)\r\n",
        "Requirement already satisfied (use --upgrade to upgrade): six in /usr/local/lib/python2.7/dist-packages (from python-dateutil->pandas->seaborn)\r\n",
        "Cleaning up...\r\n"
       ]
      }
     ],
     "prompt_number": 10
    },
    {
     "cell_type": "code",
     "collapsed": false,
     "input": [
      "!ls"
     ],
     "language": "python",
     "metadata": {},
     "outputs": [
      {
       "output_type": "stream",
       "stream": "stdout",
       "text": [
        "README.md  shell.ipynb\ttests\r\n"
       ]
      }
     ],
     "prompt_number": 11
    },
    {
     "cell_type": "code",
     "collapsed": false,
     "input": [
      "!mkdir finance\n"
     ],
     "language": "python",
     "metadata": {},
     "outputs": [],
     "prompt_number": 1
    },
    {
     "cell_type": "code",
     "collapsed": false,
     "input": [
      "import openpyxl_compat "
     ],
     "language": "python",
     "metadata": {},
     "outputs": [
      {
       "ename": "ImportError",
       "evalue": "No module named openpyxl_compat",
       "output_type": "pyerr",
       "traceback": [
        "\u001b[1;31m---------------------------------------------------------------------------\u001b[0m\n\u001b[1;31mImportError\u001b[0m                               Traceback (most recent call last)",
        "\u001b[1;32m<ipython-input-2-8f94daa9fb0a>\u001b[0m in \u001b[0;36m<module>\u001b[1;34m()\u001b[0m\n\u001b[1;32m----> 1\u001b[1;33m \u001b[1;32mimport\u001b[0m \u001b[0mopenpyxl_compat\u001b[0m\u001b[1;33m\u001b[0m\u001b[0m\n\u001b[0m",
        "\u001b[1;31mImportError\u001b[0m: No module named openpyxl_compat"
       ]
      }
     ],
     "prompt_number": 2
    },
    {
     "cell_type": "code",
     "collapsed": false,
     "input": [
      "import ambry\n",
      "l = ambry.library()\n",
      "l.sync_remotes()"
     ],
     "language": "python",
     "metadata": {},
     "outputs": [
      {
       "output_type": "stream",
       "stream": "stdout",
       "text": [
        "ambry.library 36 INFO Remote http://s3.sandiegodata.org/library/#compressed sync: source1/dataset1-subset1-variation1-1.10.1.db\n"
       ]
      },
      {
       "output_type": "stream",
       "stream": "stderr",
       "text": [
        "INFO:ambry.library:Remote http://s3.sandiegodata.org/library/#compressed sync: source1/dataset1-subset1-variation1-1.10.1.db\n"
       ]
      },
      {
       "output_type": "stream",
       "stream": "stdout",
       "text": [
        "ambry.library 36 ERROR Failed to fetch bundle for source1/dataset1-subset1-variation1-1.10.1.db \n"
       ]
      },
      {
       "output_type": "stream",
       "stream": "stderr",
       "text": [
        "ERROR:ambry.library:Failed to fetch bundle for source1/dataset1-subset1-variation1-1.10.1.db \n"
       ]
      },
      {
       "output_type": "stream",
       "stream": "stdout",
       "text": [
        "ambry.library 36 INFO Remote http://s3.sandiegodata.org/library/#compressed sync: census.gov/acs-p5ye2012-0.0.1.db\n"
       ]
      },
      {
       "output_type": "stream",
       "stream": "stderr",
       "text": [
        "INFO:ambry.library:Remote http://s3.sandiegodata.org/library/#compressed sync: census.gov/acs-p5ye2012-0.0.1.db\n"
       ]
      },
      {
       "output_type": "stream",
       "stream": "stdout",
       "text": [
        "ambry.library 36 ERROR Failed to fetch bundle for census.gov/acs-p5ye2012-0.0.1.db \n"
       ]
      },
      {
       "output_type": "stream",
       "stream": "stderr",
       "text": [
        "ERROR:ambry.library:Failed to fetch bundle for census.gov/acs-p5ye2012-0.0.1.db \n"
       ]
      },
      {
       "output_type": "stream",
       "stream": "stdout",
       "text": [
        "ambry.library 36 INFO Remote http://s3.sandiegodata.org/library/#compressed sync: census.gov/acs-p5ye2012-0.0.2.db\n"
       ]
      },
      {
       "output_type": "stream",
       "stream": "stderr",
       "text": [
        "INFO:ambry.library:Remote http://s3.sandiegodata.org/library/#compressed sync: census.gov/acs-p5ye2012-0.0.2.db\n"
       ]
      },
      {
       "output_type": "stream",
       "stream": "stdout",
       "text": [
        "ambry.library 36 ERROR Failed to fetch bundle for census.gov/acs-p5ye2012-0.0.2.db \n"
       ]
      },
      {
       "output_type": "stream",
       "stream": "stderr",
       "text": [
        "ERROR:ambry.library:Failed to fetch bundle for census.gov/acs-p5ye2012-0.0.2.db \n"
       ]
      },
      {
       "output_type": "stream",
       "stream": "stdout",
       "text": [
        "ambry.library 36 INFO Remote http://s3.sandiegodata.org/library/#compressed sync: census.gov/2010_population-geo-orig-0.1.5.db\n"
       ]
      },
      {
       "output_type": "stream",
       "stream": "stderr",
       "text": [
        "INFO:ambry.library:Remote http://s3.sandiegodata.org/library/#compressed sync: census.gov/2010_population-geo-orig-0.1.5.db\n"
       ]
      },
      {
       "output_type": "stream",
       "stream": "stdout",
       "text": [
        "ambry.library 36 ERROR Failed to fetch bundle for census.gov/2010_population-geo-orig-0.1.5.db \n"
       ]
      },
      {
       "output_type": "stream",
       "stream": "stderr",
       "text": [
        "ERROR:ambry.library:Failed to fetch bundle for census.gov/2010_population-geo-orig-0.1.5.db \n"
       ]
      }
     ],
     "prompt_number": 7
    },
    {
     "cell_type": "code",
     "collapsed": false,
     "input": [
      "l = ambry.ilibrary()\n",
      "l.find(name='cra')"
     ],
     "language": "python",
     "metadata": {},
     "outputs": [
      {
       "html": [
        "<table></table>"
       ],
       "metadata": {},
       "output_type": "pyout",
       "prompt_number": 4,
       "text": [
        "<ambry.identity.IdentitySet at 0x39f5550>"
       ]
      }
     ],
     "prompt_number": 4
    },
    {
     "cell_type": "code",
     "collapsed": false,
     "input": [],
     "language": "python",
     "metadata": {},
     "outputs": [
      {
       "metadata": {},
       "output_type": "pyout",
       "prompt_number": 5,
       "text": [
        "False"
       ]
      }
     ],
     "prompt_number": 5
    },
    {
     "cell_type": "code",
     "collapsed": false,
     "input": [],
     "language": "python",
     "metadata": {},
     "outputs": []
    }
   ],
   "metadata": {}
  }
 ]
}