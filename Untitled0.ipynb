{
 "metadata": {
  "name": "",
  "signature": "sha256:c3a1bed8ae76c3c376a2553f5c79d5c12d3fc994a80e927faceec4b6f3c8a2b6"
 },
 "nbformat": 3,
 "nbformat_minor": 0,
 "worksheets": []
}