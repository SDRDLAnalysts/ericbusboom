{
 "metadata": {
  "name": "",
  "signature": "sha256:94abca4c2c97a9fc87425323a74018e5c5bff71e947c6165f89c8cd3dce33092"
 },
 "nbformat": 3,
 "nbformat_minor": 0,
 "worksheets": [
  {
   "cells": [
    {
     "cell_type": "heading",
     "level": 1,
     "metadata": {},
     "source": [
      "Business Loan Disclosures Data\n"
     ]
    },
    {
     "cell_type": "markdown",
     "metadata": {},
     "source": [
      "Data based on the flat files at the [FFIEC Website](http://www.ffiec.gov/cra/craflatfiles.htm). See the site for documentation. "
     ]
    },
    {
     "cell_type": "code",
     "collapsed": false,
     "input": [
      "%matplotlib inline\n",
      "import pandas as pd\n",
      "import ambry\n",
      "\n",
      "l = ambry.ilibrary()\n",
      "ambry.library().sync_remotes() # Make sure we find it. Note its in the library(), not ilibrary()\n",
      "p = l.get('ffiec.gov-cra_disclosures-0.0.1-d1_1').partition # Big! will take a while to download\n",
      "# In this version of the dataset, the state and county values are VARCHAR, not INTEGER\n",
      "disc = p.select(\"SELECT *  FROM d1_1 WHERE state = '06' and county = '073' \").pandas\n",
      "disc.to_csv('sd_county_disclosures.csv')\n",
      "\n",
      "print p.bundle.identity, len(disc.id)\n"
     ],
     "language": "python",
     "metadata": {},
     "outputs": [
      {
       "ename": "AttributeError",
       "evalue": "'bool' object has no attribute 'partition'",
       "output_type": "pyerr",
       "traceback": [
        "\u001b[1;31m---------------------------------------------------------------------------\u001b[0m\n\u001b[1;31mAttributeError\u001b[0m                            Traceback (most recent call last)",
        "\u001b[1;32m<ipython-input-6-c8744d9f9fef>\u001b[0m in \u001b[0;36m<module>\u001b[1;34m()\u001b[0m\n\u001b[0;32m      5\u001b[0m \u001b[0ml\u001b[0m \u001b[1;33m=\u001b[0m \u001b[0mambry\u001b[0m\u001b[1;33m.\u001b[0m\u001b[0milibrary\u001b[0m\u001b[1;33m(\u001b[0m\u001b[1;33m)\u001b[0m\u001b[1;33m\u001b[0m\u001b[0m\n\u001b[0;32m      6\u001b[0m \u001b[0mambry\u001b[0m\u001b[1;33m.\u001b[0m\u001b[0mlibrary\u001b[0m\u001b[1;33m(\u001b[0m\u001b[1;33m)\u001b[0m\u001b[1;33m.\u001b[0m\u001b[0msync_remotes\u001b[0m\u001b[1;33m(\u001b[0m\u001b[1;33m)\u001b[0m \u001b[1;31m# Make sure we find it. Note its in the library(), not ilibrary()\u001b[0m\u001b[1;33m\u001b[0m\u001b[0m\n\u001b[1;32m----> 7\u001b[1;33m \u001b[0mp\u001b[0m \u001b[1;33m=\u001b[0m \u001b[0ml\u001b[0m\u001b[1;33m.\u001b[0m\u001b[0mget\u001b[0m\u001b[1;33m(\u001b[0m\u001b[1;34m'ffiec.gov-cra_disclosures-0.0.1-d1_1'\u001b[0m\u001b[1;33m)\u001b[0m\u001b[1;33m.\u001b[0m\u001b[0mpartition\u001b[0m \u001b[1;31m# Big! will take a while to download\u001b[0m\u001b[1;33m\u001b[0m\u001b[0m\n\u001b[0m\u001b[0;32m      8\u001b[0m \u001b[1;31m# In this version of the dataset, the state and county values are VARCHAR, not INTEGER\u001b[0m\u001b[1;33m\u001b[0m\u001b[1;33m\u001b[0m\u001b[0m\n\u001b[0;32m      9\u001b[0m \u001b[0mdisc\u001b[0m \u001b[1;33m=\u001b[0m \u001b[0mp\u001b[0m\u001b[1;33m.\u001b[0m\u001b[0mselect\u001b[0m\u001b[1;33m(\u001b[0m\u001b[1;34m\"SELECT *  FROM d1_1 WHERE state = '06' and county = '073' \"\u001b[0m\u001b[1;33m)\u001b[0m\u001b[1;33m.\u001b[0m\u001b[0mpandas\u001b[0m\u001b[1;33m\u001b[0m\u001b[0m\n",
        "\u001b[1;31mAttributeError\u001b[0m: 'bool' object has no attribute 'partition'"
       ]
      }
     ],
     "prompt_number": 6
    },
    {
     "cell_type": "code",
     "collapsed": false,
     "input": [
      "!ls -sh sd_county_disclosures.csv"
     ],
     "language": "python",
     "metadata": {},
     "outputs": [
      {
       "output_type": "stream",
       "stream": "stdout",
       "text": [
        "3.7M sd_county_disclosures.csv\r\n"
       ]
      }
     ],
     "prompt_number": 56
    },
    {
     "cell_type": "markdown",
     "metadata": {},
     "source": [
      "[SD County Disclosures](sd_county_disclosures.csv)"
     ]
    },
    {
     "cell_type": "code",
     "collapsed": true,
     "input": [
      "disc.count()"
     ],
     "language": "python",
     "metadata": {},
     "outputs": [
      {
       "metadata": {},
       "output_type": "pyout",
       "prompt_number": 3,
       "text": [
        "id                            7333\n",
        "table_id                      7333\n",
        "respondent_id                 7333\n",
        "agency                        7333\n",
        "year                          7333\n",
        "loan_type                     7333\n",
        "action                        7333\n",
        "state                         7333\n",
        "county                        7333\n",
        "msa                           6897\n",
        "assessment_area               6897\n",
        "partial_county                6845\n",
        "split_county                  6845\n",
        "pop_class                     6845\n",
        "income_total                  6845\n",
        "report_level                   488\n",
        "num_orig_bus_lt100k           7333\n",
        "tot_orig_bus_lt100k           7333\n",
        "num_orig_bus_lt250k           7333\n",
        "tot_orig_bus_gt100k_lt250k    7333\n",
        "num_orig_bus_gt250k_lt1m      7333\n",
        "tot_orig_bus_gt250k_lt1m      7333\n",
        "num_orig_bus_lt1m             7333\n",
        "tot_orig_bus_lt1m             7333\n",
        "num_orig_bus_al               7333\n",
        "tot_orig_bus_al               7333\n",
        "dtype: int64"
       ]
      }
     ],
     "prompt_number": 3
    },
    {
     "cell_type": "code",
     "collapsed": false,
     "input": [
      "l.find(name='cra')"
     ],
     "language": "python",
     "metadata": {},
     "outputs": [
      {
       "html": [
        "<table><tr><td>L R</td><td>d02F002</td><td>ffiec.gov-cra_disclosures-0.0.2</td></tr>\n",
        "<tr><td>L R</td><td>d02F001</td><td>ffiec.gov-cra_disclosures-0.0.1</td></tr></table>"
       ],
       "metadata": {},
       "output_type": "pyout",
       "prompt_number": 5,
       "text": [
        "<ambry.identity.IdentitySet at 0x49ed850>"
       ]
      }
     ],
     "prompt_number": 5
    },
    {
     "cell_type": "code",
     "collapsed": false,
     "input": [],
     "language": "python",
     "metadata": {},
     "outputs": []
    }
   ],
   "metadata": {}
  }
 ]
}