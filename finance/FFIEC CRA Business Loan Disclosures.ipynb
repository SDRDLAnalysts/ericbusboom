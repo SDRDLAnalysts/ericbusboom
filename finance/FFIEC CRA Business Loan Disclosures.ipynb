{
 "metadata": {
  "name": "",
  "signature": "sha256:05c4761ee2f5f81487ffce82e8f892e4cc3fee16065e7f10b268645faa4d8ba3"
 },
 "nbformat": 3,
 "nbformat_minor": 0,
 "worksheets": [
  {
   "cells": [
    {
     "cell_type": "heading",
     "level": 1,
     "metadata": {},
     "source": [
      "Business Loan Disclosures Data\n"
     ]
    },
    {
     "cell_type": "markdown",
     "metadata": {},
     "source": [
      "Data based on the flat files at the [FFIEC Website](http://www.ffiec.gov/cra/craflatfiles.htm). See the site for documentation. "
     ]
    },
    {
     "cell_type": "code",
     "collapsed": false,
     "input": [
      "%matplotlib inline\n",
      "import pandas as pd\n",
      "import ambry\n",
      "\n",
      "l = ambry.ilibrary()\n",
      "ambry.library().sync_remotes() # Make sure we find it. Note its in the library(), not ilibrary()\n",
      "p = l.get('p02F001002').partition # Big! will take a while to download\n",
      "# In this version of the dataset, the state and county values are VARCHAR, not INTEGER\n",
      "disc = p.select(\"SELECT *  FROM d1_1 WHERE state = '06' and county = '073' \").pandas\n",
      "disc.to_csv('sd_county_disclosures.csv')\n",
      "\n",
      "print p.bundle.identity, len(disc.id)\n",
      "\n",
      "\n"
     ],
     "language": "python",
     "metadata": {},
     "outputs": [
      {
       "output_type": "stream",
       "stream": "stdout",
       "text": [
        "ffiec.gov-cra_disclosures-0.0.2~d02F002 7333\n",
        "   count(*)\n",
        "0      7333\n"
       ]
      }
     ],
     "prompt_number": 22
    },
    {
     "cell_type": "code",
     "collapsed": false,
     "input": [
      "df =  p.select(\"SELECT * FROM d1_1 WHERE state = 6\").pandas"
     ],
     "language": "python",
     "metadata": {},
     "outputs": [],
     "prompt_number": 23
    },
    {
     "cell_type": "code",
     "collapsed": false,
     "input": [
      "df.groupby('county').id.count()"
     ],
     "language": "python",
     "metadata": {},
     "outputs": [
      {
       "metadata": {},
       "output_type": "pyout",
       "prompt_number": 26,
       "text": [
        "county\n",
        "1          5006\n",
        "3            66\n",
        "5           342\n",
        "7           544\n",
        "9           359\n",
        "11          261\n",
        "13         4043\n",
        "15          176\n",
        "17          613\n",
        "19         2377\n",
        "21          260\n",
        "23          423\n",
        "25          391\n",
        "27          278\n",
        "29         2213\n",
        "31          394\n",
        "33          387\n",
        "35          254\n",
        "37        12662\n",
        "39          478\n",
        "41         1194\n",
        "43          249\n",
        "45          536\n",
        "47          545\n",
        "49          190\n",
        "51          204\n",
        "53          963\n",
        "55          677\n",
        "57          583\n",
        "59         8308\n",
        "61          933\n",
        "63          273\n",
        "65         5591\n",
        "67         3819\n",
        "69          350\n",
        "71         4723\n",
        "73         7333\n",
        "75         4554\n",
        "77          933\n",
        "79          697\n",
        "81         4149\n",
        "83         1245\n",
        "85         4976\n",
        "87          839\n",
        "89          480\n",
        "91          145\n",
        "93          322\n",
        "95          949\n",
        "97         1027\n",
        "99          872\n",
        "101         460\n",
        "103         338\n",
        "105         172\n",
        "107         701\n",
        "109         382\n",
        "111        3864\n",
        "113         714\n",
        "115         357\n",
        "Name: id, Length: 58, dtype: int64"
       ]
      }
     ],
     "prompt_number": 26
    },
    {
     "cell_type": "code",
     "collapsed": false,
     "input": [
      "p = l.get('p02F001001').partition\n",
      "df =  p.select(\"SELECT * FROM d1_1 WHERE state = '06'\").pandas\n",
      "df.groupby('county').id.count()"
     ],
     "language": "python",
     "metadata": {},
     "outputs": [
      {
       "metadata": {},
       "output_type": "pyout",
       "prompt_number": 28,
       "text": [
        "county\n",
        "001       33774\n",
        "003        1047\n",
        "005        2988\n",
        "007        4385\n",
        "009        3286\n",
        "011        2425\n",
        "013       30746\n",
        "015        1989\n",
        "017        5663\n",
        "019       16988\n",
        "021        2353\n",
        "023        3133\n",
        "025        3514\n",
        "027        2235\n",
        "029       16520\n",
        "031        3647\n",
        "033        3472\n",
        "035        2219\n",
        "037       60796\n",
        "039        4353\n",
        "041        8492\n",
        "043        2331\n",
        "045        4237\n",
        "047        4881\n",
        "049        2011\n",
        "051        2071\n",
        "053        6808\n",
        "055        6141\n",
        "057        4598\n",
        "059       42647\n",
        "061        7963\n",
        "063        2327\n",
        "065       33666\n",
        "067       27101\n",
        "069        3129\n",
        "071       28278\n",
        "073       41908\n",
        "075       28690\n",
        "077       13222\n",
        "079        5757\n",
        "081       24813\n",
        "083        7243\n",
        "085       30266\n",
        "087        5743\n",
        "089        3900\n",
        "091        1389\n",
        "093        2851\n",
        "095        6932\n",
        "097        7729\n",
        "099        6743\n",
        "101        3508\n",
        "103        2777\n",
        "105        1702\n",
        "107        5432\n",
        "109        3157\n",
        "111       22513\n",
        "113        5515\n",
        "115        2918\n",
        "Name: id, Length: 58, dtype: int64"
       ]
      }
     ],
     "prompt_number": 28
    },
    {
     "cell_type": "code",
     "collapsed": false,
     "input": [
      "l.find(name='cra')"
     ],
     "language": "python",
     "metadata": {},
     "outputs": [
      {
       "html": [
        "<table><tr><td>L R</td><td>d02F002</td><td>ffiec.gov-cra_disclosures-0.0.2</td></tr>\n",
        "<tr><td>L R</td><td>d02F001</td><td>ffiec.gov-cra_disclosures-0.0.1</td></tr></table>"
       ],
       "metadata": {},
       "output_type": "pyout",
       "prompt_number": 5,
       "text": [
        "<ambry.identity.IdentitySet at 0x49ed850>"
       ]
      }
     ],
     "prompt_number": 5
    },
    {
     "cell_type": "code",
     "collapsed": false,
     "input": [
      "b = l.get('ffiec.gov-cra_disclosures-0.0.1')"
     ],
     "language": "python",
     "metadata": {},
     "outputs": [],
     "prompt_number": 7
    },
    {
     "cell_type": "code",
     "collapsed": false,
     "input": [
      "b.partitions"
     ],
     "language": "python",
     "metadata": {},
     "outputs": [
      {
       "html": [
        "<table>\n",
        "<tr><th>Id</th><th>Vid</th><th>Name</th><th>VName</th><th>Table</th></tr>\n",
        "<tr><td>p02F001</td><td>p02F001001</td><td>ffiec.gov-cra_disclosures-d1_1</td><td>ffiec.gov-cra_disclosures-d1_1-0.0.1</td><td>d1_1</td></tr>\n",
        "<tr><td>p02F002</td><td>p02F002001</td><td>ffiec.gov-cra_disclosures-d1_2</td><td>ffiec.gov-cra_disclosures-d1_2-0.0.1</td><td>d1_2</td></tr>\n",
        "<tr><td>p02F003</td><td>p02F003001</td><td>ffiec.gov-cra_disclosures-d2_1</td><td>ffiec.gov-cra_disclosures-d2_1-0.0.1</td><td>d2_1</td></tr>\n",
        "<tr><td>p02F004</td><td>p02F004001</td><td>ffiec.gov-cra_disclosures-d2_2</td><td>ffiec.gov-cra_disclosures-d2_2-0.0.1</td><td>d2_2</td></tr>\n",
        "<tr><td>p02F005</td><td>p02F005001</td><td>ffiec.gov-cra_disclosures-d3_0</td><td>ffiec.gov-cra_disclosures-d3_0-0.0.1</td><td>d3_0</td></tr>\n",
        "<tr><td>p02F006</td><td>p02F006001</td><td>ffiec.gov-cra_disclosures-d4_0</td><td>ffiec.gov-cra_disclosures-d4_0-0.0.1</td><td>d4_0</td></tr>\n",
        "<tr><td>p02F007</td><td>p02F007001</td><td>ffiec.gov-cra_disclosures-d5_0</td><td>ffiec.gov-cra_disclosures-d5_0-0.0.1</td><td>d5_0</td></tr>\n",
        "<tr><td>p02F008</td><td>p02F008001</td><td>ffiec.gov-cra_disclosures-d6_0</td><td>ffiec.gov-cra_disclosures-d6_0-0.0.1</td><td>d6_0</td></tr>\n",
        "</table>"
       ],
       "metadata": {},
       "output_type": "pyout",
       "prompt_number": 8,
       "text": [
        "<ambry.partitions.Partitions at 0x4b2f110>"
       ]
      }
     ],
     "prompt_number": 8
    },
    {
     "cell_type": "code",
     "collapsed": false,
     "input": [],
     "language": "python",
     "metadata": {},
     "outputs": []
    }
   ],
   "metadata": {}
  }
 ]
}