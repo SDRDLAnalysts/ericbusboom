{
 "metadata": {
  "name": "",
  "signature": "sha256:d9dd401bc48bcba823bbc22d5b4e32db47b0eed9270d6160e4fd2efed3affb9e"
 },
 "nbformat": 3,
 "nbformat_minor": 0,
 "worksheets": [
  {
   "cells": [
    {
     "cell_type": "heading",
     "level": 1,
     "metadata": {},
     "source": [
      "Business Loan Disclosures\n"
     ]
    },
    {
     "cell_type": "markdown",
     "metadata": {},
     "source": [
      "Dat based on the flat files at the [FFIEC Website](http://www.ffiec.gov/cra/craflatfiles.htm). See the site for documentation. "
     ]
    },
    {
     "cell_type": "code",
     "collapsed": false,
     "input": [
      "%matplotlib inline\n",
      "import pandas as pd\n",
      "import ambry\n",
      "\n",
      "l = ambry.ilibrary()\n",
      "ambry.library().sync_remotes() # Make sure we find it. Note its not in the library(), not ilibrary()\n",
      "l.find(name=\"cra\")"
     ],
     "language": "python",
     "metadata": {},
     "outputs": [
      {
       "html": [
        "<table><tr><td>L R</td><td>d02F001</td><td>ffiec.gov-cra_disclosures-0.0.1</td></tr></table>"
       ],
       "metadata": {},
       "output_type": "pyout",
       "prompt_number": 9,
       "text": [
        "<ambry.identity.IdentitySet at 0x52062d0>"
       ]
      }
     ],
     "prompt_number": 9
    },
    {
     "cell_type": "code",
     "collapsed": false,
     "input": [
      "b = l.get('ffiec.gov-cra_disclosures')\n",
      "b.partitions"
     ],
     "language": "python",
     "metadata": {},
     "outputs": [
      {
       "html": [
        "<table>\n",
        "<tr><th>Id</th><th>Vid</th><th>Name</th><th>VName</th><th>Table</th></tr>\n",
        "<tr><td>p02F001</td><td>p02F001001</td><td>ffiec.gov-cra_disclosures-d1_1</td><td>ffiec.gov-cra_disclosures-d1_1-0.0.1</td><td>d1_1</td></tr>\n",
        "<tr><td>p02F002</td><td>p02F002001</td><td>ffiec.gov-cra_disclosures-d1_2</td><td>ffiec.gov-cra_disclosures-d1_2-0.0.1</td><td>d1_2</td></tr>\n",
        "<tr><td>p02F003</td><td>p02F003001</td><td>ffiec.gov-cra_disclosures-d2_1</td><td>ffiec.gov-cra_disclosures-d2_1-0.0.1</td><td>d2_1</td></tr>\n",
        "<tr><td>p02F004</td><td>p02F004001</td><td>ffiec.gov-cra_disclosures-d2_2</td><td>ffiec.gov-cra_disclosures-d2_2-0.0.1</td><td>d2_2</td></tr>\n",
        "<tr><td>p02F005</td><td>p02F005001</td><td>ffiec.gov-cra_disclosures-d3_0</td><td>ffiec.gov-cra_disclosures-d3_0-0.0.1</td><td>d3_0</td></tr>\n",
        "<tr><td>p02F006</td><td>p02F006001</td><td>ffiec.gov-cra_disclosures-d4_0</td><td>ffiec.gov-cra_disclosures-d4_0-0.0.1</td><td>d4_0</td></tr>\n",
        "<tr><td>p02F007</td><td>p02F007001</td><td>ffiec.gov-cra_disclosures-d5_0</td><td>ffiec.gov-cra_disclosures-d5_0-0.0.1</td><td>d5_0</td></tr>\n",
        "<tr><td>p02F008</td><td>p02F008001</td><td>ffiec.gov-cra_disclosures-d6_0</td><td>ffiec.gov-cra_disclosures-d6_0-0.0.1</td><td>d6_0</td></tr>\n",
        "</table>"
       ],
       "metadata": {},
       "output_type": "pyout",
       "prompt_number": 11,
       "text": [
        "<ambry.partitions.Partitions at 0x4fcff90>"
       ]
      }
     ],
     "prompt_number": 11
    },
    {
     "cell_type": "code",
     "collapsed": false,
     "input": [
      "p = l.get(')"
     ],
     "language": "python",
     "metadata": {},
     "outputs": [
      {
       "metadata": {},
       "output_type": "pyout",
       "prompt_number": 12,
       "text": [
        "<ambry.schema.Schema at 0x5279350>"
       ]
      }
     ],
     "prompt_number": 12
    },
    {
     "cell_type": "code",
     "collapsed": false,
     "input": [],
     "language": "python",
     "metadata": {},
     "outputs": []
    }
   ],
   "metadata": {}
  }
 ]
}