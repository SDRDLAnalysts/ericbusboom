{
 "metadata": {
  "name": "",
  "signature": "sha256:67274e49e854d00a51bfdcd1abf8323c9b610e68ab44b97ff8f5a3fabb05ee32"
 },
 "nbformat": 3,
 "nbformat_minor": 0,
 "worksheets": [
  {
   "cells": [
    {
     "cell_type": "heading",
     "level": 1,
     "metadata": {},
     "source": [
      "Business Loan Disclosures Data\n"
     ]
    },
    {
     "cell_type": "markdown",
     "metadata": {},
     "source": [
      "Data based on the flat files at the [FFIEC Website](http://www.ffiec.gov/cra/craflatfiles.htm). See the site for documentation. "
     ]
    },
    {
     "cell_type": "code",
     "collapsed": false,
     "input": [
      "%matplotlib inline\n",
      "import pandas as pd\n",
      "import ambry\n",
      "\n",
      "l = ambry.ilibrary()\n",
      "ambry.library().sync_remotes() # Make sure we find it. Note its in the library(), not ilibrary()\n",
      "p = l.get('p02F001002').partition # Big! will take a while to download\n",
      "# In this version of the dataset, the state and county values are VARCHAR, not INTEGER\n",
      "disc = p.select(\"SELECT *  FROM d1_1 WHERE state = '06' and county = '073' \").pandas\n",
      "disc.to_csv('sd_county_disclosures.csv')\n",
      "\n",
      "print p.bundle.identity, len(disc.id)\n"
     ],
     "language": "python",
     "metadata": {},
     "outputs": [
      {
       "output_type": "stream",
       "stream": "stdout",
       "text": [
        "ffiec.gov-cra_disclosures-0.0.2~d02F002 7333\n"
       ]
      }
     ],
     "prompt_number": 12
    },
    {
     "cell_type": "code",
     "collapsed": false,
     "input": [
      "print p.select(\"SELECT * FROM d1_1\").pandas"
     ],
     "language": "python",
     "metadata": {},
     "outputs": [
      {
       "output_type": "stream",
       "stream": "stdout",
       "text": [
        "    state\n",
        "0     NaN\n",
        "1       1\n",
        "2       2\n",
        "3       4\n",
        "4       5\n",
        "5       6\n",
        "6       8\n",
        "7       9\n",
        "8      10\n",
        "9      11\n",
        "10     12\n",
        "11     13\n",
        "12     15\n",
        "13     16\n",
        "14     17\n",
        "15     18\n",
        "16     19\n",
        "17     20\n",
        "18     21\n",
        "19     22\n",
        "20     23\n",
        "21     24\n",
        "22     25\n",
        "23     26\n",
        "24     27\n",
        "25     28\n",
        "26     29\n",
        "27     30\n",
        "28     31\n",
        "29     32\n",
        "30     33\n",
        "31     34\n",
        "32     35\n",
        "33     36\n",
        "34     37\n",
        "35     38\n",
        "36     39\n",
        "37     40\n",
        "38     41\n",
        "39     42\n",
        "40     44\n",
        "41     45\n",
        "42     46\n",
        "43     47\n",
        "44     48\n",
        "45     49\n",
        "46     50\n",
        "47     51\n",
        "48     53\n",
        "49     54\n",
        "50     55\n",
        "51     56\n",
        "52     60\n",
        "53     66\n",
        "54     69\n",
        "55     70\n",
        "56     72\n",
        "57     78\n"
       ]
      }
     ],
     "prompt_number": 13
    },
    {
     "cell_type": "code",
     "collapsed": false,
     "input": [
      "!ls -sh sd_county_disclosures.csv"
     ],
     "language": "python",
     "metadata": {},
     "outputs": [
      {
       "output_type": "stream",
       "stream": "stdout",
       "text": [
        "3.7M sd_county_disclosures.csv\r\n"
       ]
      }
     ],
     "prompt_number": 56
    },
    {
     "cell_type": "markdown",
     "metadata": {},
     "source": [
      "[SD County Disclosures](sd_county_disclosures.csv)"
     ]
    },
    {
     "cell_type": "code",
     "collapsed": true,
     "input": [
      "disc.count()"
     ],
     "language": "python",
     "metadata": {},
     "outputs": [
      {
       "metadata": {},
       "output_type": "pyout",
       "prompt_number": 3,
       "text": [
        "id                            7333\n",
        "table_id                      7333\n",
        "respondent_id                 7333\n",
        "agency                        7333\n",
        "year                          7333\n",
        "loan_type                     7333\n",
        "action                        7333\n",
        "state                         7333\n",
        "county                        7333\n",
        "msa                           6897\n",
        "assessment_area               6897\n",
        "partial_county                6845\n",
        "split_county                  6845\n",
        "pop_class                     6845\n",
        "income_total                  6845\n",
        "report_level                   488\n",
        "num_orig_bus_lt100k           7333\n",
        "tot_orig_bus_lt100k           7333\n",
        "num_orig_bus_lt250k           7333\n",
        "tot_orig_bus_gt100k_lt250k    7333\n",
        "num_orig_bus_gt250k_lt1m      7333\n",
        "tot_orig_bus_gt250k_lt1m      7333\n",
        "num_orig_bus_lt1m             7333\n",
        "tot_orig_bus_lt1m             7333\n",
        "num_orig_bus_al               7333\n",
        "tot_orig_bus_al               7333\n",
        "dtype: int64"
       ]
      }
     ],
     "prompt_number": 3
    },
    {
     "cell_type": "code",
     "collapsed": false,
     "input": [
      "l.find(name='cra')"
     ],
     "language": "python",
     "metadata": {},
     "outputs": [
      {
       "html": [
        "<table><tr><td>L R</td><td>d02F002</td><td>ffiec.gov-cra_disclosures-0.0.2</td></tr>\n",
        "<tr><td>L R</td><td>d02F001</td><td>ffiec.gov-cra_disclosures-0.0.1</td></tr></table>"
       ],
       "metadata": {},
       "output_type": "pyout",
       "prompt_number": 5,
       "text": [
        "<ambry.identity.IdentitySet at 0x49ed850>"
       ]
      }
     ],
     "prompt_number": 5
    },
    {
     "cell_type": "code",
     "collapsed": false,
     "input": [
      "b = l.get('ffiec.gov-cra_disclosures-0.0.1')"
     ],
     "language": "python",
     "metadata": {},
     "outputs": [],
     "prompt_number": 7
    },
    {
     "cell_type": "code",
     "collapsed": false,
     "input": [
      "b.partitions"
     ],
     "language": "python",
     "metadata": {},
     "outputs": [
      {
       "html": [
        "<table>\n",
        "<tr><th>Id</th><th>Vid</th><th>Name</th><th>VName</th><th>Table</th></tr>\n",
        "<tr><td>p02F001</td><td>p02F001001</td><td>ffiec.gov-cra_disclosures-d1_1</td><td>ffiec.gov-cra_disclosures-d1_1-0.0.1</td><td>d1_1</td></tr>\n",
        "<tr><td>p02F002</td><td>p02F002001</td><td>ffiec.gov-cra_disclosures-d1_2</td><td>ffiec.gov-cra_disclosures-d1_2-0.0.1</td><td>d1_2</td></tr>\n",
        "<tr><td>p02F003</td><td>p02F003001</td><td>ffiec.gov-cra_disclosures-d2_1</td><td>ffiec.gov-cra_disclosures-d2_1-0.0.1</td><td>d2_1</td></tr>\n",
        "<tr><td>p02F004</td><td>p02F004001</td><td>ffiec.gov-cra_disclosures-d2_2</td><td>ffiec.gov-cra_disclosures-d2_2-0.0.1</td><td>d2_2</td></tr>\n",
        "<tr><td>p02F005</td><td>p02F005001</td><td>ffiec.gov-cra_disclosures-d3_0</td><td>ffiec.gov-cra_disclosures-d3_0-0.0.1</td><td>d3_0</td></tr>\n",
        "<tr><td>p02F006</td><td>p02F006001</td><td>ffiec.gov-cra_disclosures-d4_0</td><td>ffiec.gov-cra_disclosures-d4_0-0.0.1</td><td>d4_0</td></tr>\n",
        "<tr><td>p02F007</td><td>p02F007001</td><td>ffiec.gov-cra_disclosures-d5_0</td><td>ffiec.gov-cra_disclosures-d5_0-0.0.1</td><td>d5_0</td></tr>\n",
        "<tr><td>p02F008</td><td>p02F008001</td><td>ffiec.gov-cra_disclosures-d6_0</td><td>ffiec.gov-cra_disclosures-d6_0-0.0.1</td><td>d6_0</td></tr>\n",
        "</table>"
       ],
       "metadata": {},
       "output_type": "pyout",
       "prompt_number": 8,
       "text": [
        "<ambry.partitions.Partitions at 0x4b2f110>"
       ]
      }
     ],
     "prompt_number": 8
    },
    {
     "cell_type": "code",
     "collapsed": false,
     "input": [],
     "language": "python",
     "metadata": {},
     "outputs": []
    }
   ],
   "metadata": {}
  }
 ]
}