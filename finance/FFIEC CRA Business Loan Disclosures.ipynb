{
 "metadata": {
  "name": "",
  "signature": "sha256:7ae0c145f723ac59aae70dfed78d50980c40b066975be3c7ddb8c904a17232a0"
 },
 "nbformat": 3,
 "nbformat_minor": 0,
 "worksheets": [
  {
   "cells": [
    {
     "cell_type": "heading",
     "level": 1,
     "metadata": {},
     "source": [
      "Business Loan Disclosures Data\n"
     ]
    },
    {
     "cell_type": "markdown",
     "metadata": {},
     "source": [
      "Data based on the flat files at the [FFIEC Website](http://www.ffiec.gov/cra/craflatfiles.htm). See the site for documentation. "
     ]
    },
    {
     "cell_type": "code",
     "collapsed": false,
     "input": [
      "%matplotlib inline\n",
      "import pandas as pd\n",
      "import ambry\n",
      "\n",
      "l = ambry.ilibrary()\n",
      "ambry.library().sync_remotes() # Make sure we find it. Note its in the library(), not ilibrary()\n",
      "p = l.get('ffiec.gov-cra_disclosures-d1_1').partition # Big! will take a while to download\n",
      "# In this version of the dataset, the state and county values are VARCHAR, not INTEGER\n",
      "disc = p.select(\"SELECT *  FROM d1_1 WHERE state = '06' and county = '073' \").pandas\n",
      "disc.to_csv('sd_county_disclosures.csv')\n",
      "\n",
      "print p.bundle.identity, len(disc.id)\n"
     ],
     "language": "python",
     "metadata": {},
     "outputs": []
    },
    {
     "cell_type": "code",
     "collapsed": false,
     "input": [
      "!ls -sh sd_county_disclosures.csv"
     ],
     "language": "python",
     "metadata": {},
     "outputs": [
      {
       "output_type": "stream",
       "stream": "stdout",
       "text": [
        "3.7M sd_county_disclosures.csv\r\n"
       ]
      }
     ],
     "prompt_number": 56
    },
    {
     "cell_type": "markdown",
     "metadata": {},
     "source": [
      "[SD County Disclosures](sd_county_disclosures.csv)"
     ]
    },
    {
     "cell_type": "code",
     "collapsed": false,
     "input": [],
     "language": "python",
     "metadata": {},
     "outputs": []
    }
   ],
   "metadata": {}
  }
 ]
}