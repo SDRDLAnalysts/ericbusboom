{
 "metadata": {
  "name": "",
  "signature": "sha256:97b77e30d777444ab8e2cc18f077207ea7a5190eb9e9d50134baa16ef57c7ce5"
 },
 "nbformat": 3,
 "nbformat_minor": 0,
 "worksheets": [
  {
   "cells": [
    {
     "cell_type": "heading",
     "level": 1,
     "metadata": {},
     "source": [
      "Business Loan Disclosures\n"
     ]
    },
    {
     "cell_type": "markdown",
     "metadata": {},
     "source": [
      "Data based on the flat files at the [FFIEC Website](http://www.ffiec.gov/cra/craflatfiles.htm). See the site for documentation. "
     ]
    },
    {
     "cell_type": "code",
     "collapsed": false,
     "input": [
      "%matplotlib inline\n",
      "import pandas as pd\n",
      "import ambry\n",
      "\n",
      "l = ambry.ilibrary()\n",
      "ambry.library().sync_remotes() # Make sure we find it. Note its not in the library(), not ilibrary()\n",
      "p = l.get('ffiec.gov-cra_disclosures-d1_1').partition # Big! will take a while to download\n",
      "# In this version of the dataset, the state and county values are VARCHAR, not INTEGER\n",
      "disc = p.select(\"SELECT *  FROM d1_1 WHERE state = '06' and county = '073' \").pandas\n",
      "disc.to_csv('sd_county_disclosures.csv')\n"
     ],
     "language": "python",
     "metadata": {},
     "outputs": [],
     "prompt_number": 52
    },
    {
     "cell_type": "markdown",
     "metadata": {},
     "source": [
      "[SD County Disclosures](sd_county_disclosures.csv)"
     ]
    },
    {
     "cell_type": "code",
     "collapsed": false,
     "input": [
      "b = l.get('ffiec.gov-cra_disclosures')\n",
      "b.partitions"
     ],
     "language": "python",
     "metadata": {},
     "outputs": [
      {
       "html": [
        "<table>\n",
        "<tr><th>Id</th><th>Vid</th><th>Name</th><th>VName</th><th>Table</th></tr>\n",
        "<tr><td>p02F001</td><td>p02F001001</td><td>ffiec.gov-cra_disclosures-d1_1</td><td>ffiec.gov-cra_disclosures-d1_1-0.0.1</td><td>d1_1</td></tr>\n",
        "<tr><td>p02F002</td><td>p02F002001</td><td>ffiec.gov-cra_disclosures-d1_2</td><td>ffiec.gov-cra_disclosures-d1_2-0.0.1</td><td>d1_2</td></tr>\n",
        "<tr><td>p02F003</td><td>p02F003001</td><td>ffiec.gov-cra_disclosures-d2_1</td><td>ffiec.gov-cra_disclosures-d2_1-0.0.1</td><td>d2_1</td></tr>\n",
        "<tr><td>p02F004</td><td>p02F004001</td><td>ffiec.gov-cra_disclosures-d2_2</td><td>ffiec.gov-cra_disclosures-d2_2-0.0.1</td><td>d2_2</td></tr>\n",
        "<tr><td>p02F005</td><td>p02F005001</td><td>ffiec.gov-cra_disclosures-d3_0</td><td>ffiec.gov-cra_disclosures-d3_0-0.0.1</td><td>d3_0</td></tr>\n",
        "<tr><td>p02F006</td><td>p02F006001</td><td>ffiec.gov-cra_disclosures-d4_0</td><td>ffiec.gov-cra_disclosures-d4_0-0.0.1</td><td>d4_0</td></tr>\n",
        "<tr><td>p02F007</td><td>p02F007001</td><td>ffiec.gov-cra_disclosures-d5_0</td><td>ffiec.gov-cra_disclosures-d5_0-0.0.1</td><td>d5_0</td></tr>\n",
        "<tr><td>p02F008</td><td>p02F008001</td><td>ffiec.gov-cra_disclosures-d6_0</td><td>ffiec.gov-cra_disclosures-d6_0-0.0.1</td><td>d6_0</td></tr>\n",
        "</table>"
       ],
       "metadata": {},
       "output_type": "pyout",
       "prompt_number": 11,
       "text": [
        "<ambry.partitions.Partitions at 0x4fcff90>"
       ]
      }
     ],
     "prompt_number": 11
    },
    {
     "cell_type": "code",
     "collapsed": false,
     "input": [],
     "language": "python",
     "metadata": {},
     "outputs": [
      {
       "html": [
        "<div style=\"max-height:1000px;max-width:1500px;overflow:auto;\">\n",
        "<table border=\"1\" class=\"dataframe\">\n",
        "  <thead>\n",
        "    <tr style=\"text-align: right;\">\n",
        "      <th></th>\n",
        "      <th>count(*)</th>\n",
        "    </tr>\n",
        "  </thead>\n",
        "  <tbody>\n",
        "    <tr>\n",
        "      <th>0</th>\n",
        "      <td> 11974639</td>\n",
        "    </tr>\n",
        "  </tbody>\n",
        "</table>\n",
        "</div>"
       ],
       "metadata": {},
       "output_type": "pyout",
       "prompt_number": 15,
       "text": [
        "   count(*)\n",
        "0  11974639"
       ]
      }
     ],
     "prompt_number": 15
    },
    {
     "cell_type": "markdown",
     "metadata": {},
     "source": [
      "That's a lot of records .. better cut it down to just the county. "
     ]
    },
    {
     "cell_type": "code",
     "collapsed": false,
     "input": [
      "p.table"
     ],
     "language": "python",
     "metadata": {},
     "outputs": [
      {
       "html": [
        "\n",
        "        <table>\n",
        "        <tr><th>Name</th><td>d1_1</td></tr>\n",
        "        <tr><th>Id</th><td>t02F01</td></tr>\n",
        "        <tr><th>Vid</th><td>t02F01001</td></tr>\n",
        "        </table>\n",
        "        <table>\n",
        "<tr><th>#</th><th>Name</th><th>Datatype</th><th>description</th></tr>\n",
        "<tr><td>1</td><td>id</td><td>INTEGER</td><td></td></tr>\n",
        "<tr><td>2</td><td>table_id</td><td>VARCHAR</td><td>Value is D1-1</td></tr>\n",
        "<tr><td>3</td><td>respondent_id</td><td>VARCHAR</td><td>Assigned by regulatory agency \n",
        "(same as HMDAID if applicable);  \n",
        "Right justified with leading zeros</td></tr>\n",
        "<tr><td>4</td><td>agency</td><td>INTEGER</td><td>Values are 1=OCC, 2=FRS, \n",
        "3=FDIC, or 4=OTS</td></tr>\n",
        "<tr><td>5</td><td>year</td><td>INTEGER</td><td>Four digit year (e.g. 2012)</td></tr>\n",
        "<tr><td>6</td><td>loan_type</td><td>INTEGER</td><td>Value is 4 (Small Business)</td></tr>\n",
        "<tr><td>7</td><td>action</td><td>INTEGER</td><td>Value is 1 (Originations)</td></tr>\n",
        "<tr><td>8</td><td>state</td><td>VARCHAR</td><td>FIPS code with leading zeros \n",
        "or blank for totals across all \n",
        "states</td></tr>\n",
        "<tr><td>9</td><td>county</td><td>VARCHAR</td><td>FIPS code with leading zeros or blank \n",
        "for totals across all counties</td></tr>\n",
        "<tr><td>10</td><td>msa</td><td>VARCHAR</td><td>As defined by OMB; Right justified \n",
        "with leading zeros, NA left justified \n",
        "for areas outside of MSA/MD or blank \n",
        "for totals across all MSA/MDs</td></tr>\n",
        "<tr><td>11</td><td>assessment_area</td><td>VARCHAR</td><td>Values are 0001 through 9999; Right \n",
        "justified with leading zeros, NA left justified \n",
        "for areas outside of an Assessment \n",
        "Area (including predominately military \n",
        "areas) OR blank for totals across \n",
        "all Assessment Areas</td></tr>\n",
        "<tr><td>12</td><td>partial_county</td><td>VARCHAR</td><td>Values are \n",
        "Y = Yes \n",
        "N = No \n",
        "OR blank for totals</td></tr>\n",
        "<tr><td>13</td><td>split_county</td><td>VARCHAR</td><td>Values are \n",
        "Y = Yes \n",
        "N = No \n",
        "OR blank for totals</td></tr>\n",
        "<tr><td>14</td><td>pop_class</td><td>VARCHAR</td><td>Values are \n",
        "S= counties with \n",
        "< 500,000 in population \n",
        "L= counties with \n",
        ">500,000 in population \n",
        "OR blank for totals</td></tr>\n",
        "<tr><td>15</td><td>income_total</td><td>VARCHAR</td><td>Values are \n",
        "1= < 10% of Median Family \n",
        "Income(MFI) \n",
        "2= 10% to 20% of MFI \n",
        "3= 20% to 30% of MFI \n",
        "4= 30% to 40% of MFI \n",
        "5= 40% to 50% of MFI \n",
        "6= 50% to 60% of MFI \n",
        "7= 60% to 70% of MFI \n",
        "8= 70% to 80% of MFI \n",
        "9= 80% to 90% of MFI \n",
        " 10= 90% to 100% of MFI \n",
        " 11= 100% to 110% of MFI \n",
        " 12= 110% to 120% of MFI \n",
        " 13= > 120% of MFI \n",
        " 14= MFI not known (income \n",
        "percentage = 0) \n",
        " 15= Tract not Known (reported \n",
        "as NA) \n",
        "101= Low Income (< 50% of \n",
        "MFI - excluding 0) \n",
        "102= Moderate Income (50% \n",
        "to 80% of MFI) \n",
        "103= Middle Income (80% to \n",
        "120% of MFI) \n",
        "104= Upper Income (> 120% \n",
        "of MFI) \n",
        "105= Income Not Known (0) \n",
        "106= Tract not Known (NA) \n",
        "Right justified with leading zeros \n",
        "or blank for totals</td></tr>\n",
        "<tr><td>16</td><td>report_level</td><td>VARCHAR</td><td>Values are \n",
        "4= Total Inside & Outside \n",
        "Assessment Area (AA) \n",
        "(across all states) \n",
        "6= Total Inside AA \n",
        "(across all states) \n",
        "8= Total Outside AA \n",
        "(across all states) \n",
        "  10= State Total \n",
        "  20= Total Inside AA in State \n",
        "  30= Total Outside AA in State \n",
        "  40= County Total \n",
        "  50= Total Inside AA in County \n",
        "  60= Total Outside AA in County \n",
        "Right justified with leading zeros \n",
        "or blank if not a total</td></tr>\n",
        "<tr><td>17</td><td>num_orig_bus_lt100k</td><td>INTEGER</td><td>Right justified with leading zeros</td></tr>\n",
        "<tr><td>18</td><td>tot_orig_bus_lt100k</td><td>INTEGER</td><td>Amount is in thousands {e.g. 00000025 \n",
        "indicates $25,000); Right justified with \n",
        "leading zeros</td></tr>\n",
        "<tr><td>19</td><td>num_orig_bus_lt250k</td><td>INTEGER</td><td>Right justified with leading zeros</td></tr>\n",
        "<tr><td>20</td><td>tot_orig_bus_gt100k_lt250k</td><td>INTEGER</td><td>Amount is in thousands {e.g. 00000125 \n",
        "indicates $125,000); Right justified with \n",
        "leading zeros</td></tr>\n",
        "<tr><td>21</td><td>num_orig_bus_gt250k_lt1m</td><td>INTEGER</td><td>Right justified with leading zeros</td></tr>\n",
        "<tr><td>22</td><td>tot_orig_bus_gt250k_lt1m</td><td>INTEGER</td><td>Amount is in thousands {e.g. 00000300 \n",
        "indicates $300,000); Right justified with \n",
        "leading zeros</td></tr>\n",
        "<tr><td>23</td><td>num_orig_bus_lt1m</td><td>INTEGER</td><td>Right justified with leading zeros</td></tr>\n",
        "<tr><td>24</td><td>tot_orig_bus_lt1m</td><td>INTEGER</td><td>Amount is in thousands {e.g. 00000025 \n",
        "indicates $25,000); Right justified with \n",
        "leading zeros</td></tr>\n",
        "<tr><td>25</td><td>num_orig_bus_al</td><td>INTEGER</td><td>Right justified with leading zeros</td></tr>\n",
        "<tr><td>26</td><td>tot_orig_bus_al</td><td>INTEGER</td><td>Amount is in thousands {e.g. 00000025 \n",
        "indicates $25,000); Right justified with \n",
        "leading zeros</td></tr>\n",
        "</table>"
       ],
       "metadata": {},
       "output_type": "pyout",
       "prompt_number": 16,
       "text": [
        "<ambry.orm.Table at 0x5886fd0>"
       ]
      }
     ],
     "prompt_number": 16
    },
    {
     "cell_type": "code",
     "collapsed": false,
     "input": [],
     "language": "python",
     "metadata": {},
     "outputs": [],
     "prompt_number": 38
    },
    {
     "cell_type": "code",
     "collapsed": false,
     "input": [
      "disc = disc.set_index('id')\n"
     ],
     "language": "python",
     "metadata": {},
     "outputs": [],
     "prompt_number": 30
    },
    {
     "cell_type": "code",
     "collapsed": false,
     "input": [
      "disc[disc.split_county == 'Y'].table_id.count()"
     ],
     "language": "python",
     "metadata": {},
     "outputs": [
      {
       "metadata": {},
       "output_type": "pyout",
       "prompt_number": 37,
       "text": [
        "0"
       ]
      }
     ],
     "prompt_number": 37
    },
    {
     "cell_type": "code",
     "collapsed": false,
     "input": [
      "disc.groupby('year').id.count()"
     ],
     "language": "python",
     "metadata": {},
     "outputs": [
      {
       "metadata": {},
       "output_type": "pyout",
       "prompt_number": 42,
       "text": [
        "year\n",
        "1996    2445\n",
        "1997    2385\n",
        "1998    2503\n",
        "1999    2577\n",
        "2000    2612\n",
        "2001    2735\n",
        "2002    2764\n",
        "2003    3253\n",
        "2004    3440\n",
        "2005    2432\n",
        "2006    2416\n",
        "2007    2319\n",
        "2008    2288\n",
        "2009    1840\n",
        "2010    2043\n",
        "2011    2032\n",
        "2012    1824\n",
        "Name: id, dtype: int64"
       ]
      }
     ],
     "prompt_number": 42
    },
    {
     "cell_type": "code",
     "collapsed": false,
     "input": [
      "disc.groupby('respondent_id').id.count()"
     ],
     "language": "python",
     "metadata": {},
     "outputs": [
      {
       "metadata": {},
       "output_type": "pyout",
       "prompt_number": 49,
       "text": [
        "respondent_id\n",
        "0000000001       262\n",
        "0000000008       239\n",
        "0000000024       223\n",
        "0000000056        64\n",
        "0000000064        15\n",
        "0000000070        15\n",
        "0000000109        15\n",
        "0000000191        60\n",
        "0000000200       139\n",
        "0000000209       265\n",
        "0000000249        47\n",
        "0000000336       126\n",
        "0000000563        15\n",
        "0000000609        15\n",
        "0000000679        30\n",
        "...\n",
        "0001016316        15\n",
        "0001017658        62\n",
        "0001156539        60\n",
        "0001162017        30\n",
        "0001398580       112\n",
        "0001447639        48\n",
        "0001494240        47\n",
        "0001917301        94\n",
        "0002209553        31\n",
        "0002298995        32\n",
        "0002319676        16\n",
        "0002333412        30\n",
        "0002717012        63\n",
        "0002736291       375\n",
        "9900460024        15\n",
        "Name: id, Length: 725, dtype: int64"
       ]
      }
     ],
     "prompt_number": 49
    },
    {
     "cell_type": "code",
     "collapsed": false,
     "input": [],
     "language": "python",
     "metadata": {},
     "outputs": [],
     "prompt_number": 50
    },
    {
     "cell_type": "code",
     "collapsed": false,
     "input": [],
     "language": "python",
     "metadata": {},
     "outputs": [
      {
       "output_type": "stream",
       "stream": "stdout",
       "text": [
        "FFIEC CRA Business Loan Disclosures.ipynb  sd_county_disclosures.csv\r\n"
       ]
      }
     ],
     "prompt_number": 51
    }
   ],
   "metadata": {}
  }
 ]
}