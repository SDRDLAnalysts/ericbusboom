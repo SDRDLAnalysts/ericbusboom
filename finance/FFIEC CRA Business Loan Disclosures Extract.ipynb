{
 "metadata": {
  "name": "",
  "signature": "sha256:b20752cc7b1d6b09d055dc89c08804bd13fbe4f7824c5e2793f73b229079dd85"
 },
 "nbformat": 3,
 "nbformat_minor": 0,
 "worksheets": [
  {
   "cells": [
    {
     "cell_type": "heading",
     "level": 1,
     "metadata": {},
     "source": [
      "Business Loan Disclosures Data Extract\n"
     ]
    },
    {
     "cell_type": "markdown",
     "metadata": {},
     "source": [
      "Data based on the flat files at the [FFIEC Website](http://www.ffiec.gov/cra/craflatfiles.htm). See the site for documentation. "
     ]
    },
    {
     "cell_type": "code",
     "collapsed": false,
     "input": [
      "%matplotlib inline\n",
      "import pandas as pd\n",
      "import ambry\n",
      "\n",
      "l = ambry.ilibrary()\n",
      "ambry.library().sync_remotes() # Make sure we find it. Note its in the library(), not ilibrary()\n",
      "p = l.get('ffiec.gov-cra_disclosures-d1_1').partition # Big! will take a while to download\n",
      "# In this version of the dataset, the state and county values are VARCHAR, not INTEGER\n",
      "disc = p.select(\"SELECT *  FROM d1_1 WHERE state = '06' and county = '073' \").pandas\n",
      "disc.to_csv('sd_county_disclosures.csv')\n",
      "\n",
      "print p.bundle.identity\n"
     ],
     "language": "python",
     "metadata": {},
     "outputs": [
      {
       "output_type": "stream",
       "stream": "stdout",
       "text": [
        "ambry.library 818 INFO Remote http://s3.sandiegodata.org/library/#compressed sync: ffiec.gov/cra_disclosures-0.0.3.db\n"
       ]
      },
      {
       "output_type": "stream",
       "stream": "stderr",
       "text": [
        "INFO:ambry.library:Remote http://s3.sandiegodata.org/library/#compressed sync: ffiec.gov/cra_disclosures-0.0.3.db\n"
       ]
      },
      {
       "output_type": "stream",
       "stream": "stdout",
       "text": [
        "ambry.library 818 INFO     + ffiec.gov-cra_disclosures-d1_1\n"
       ]
      },
      {
       "output_type": "stream",
       "stream": "stderr",
       "text": [
        "INFO:ambry.library:    + ffiec.gov-cra_disclosures-d1_1\n"
       ]
      },
      {
       "output_type": "stream",
       "stream": "stdout",
       "text": [
        "ambry.library 818 INFO     + ffiec.gov-cra_disclosures-d1_2\n"
       ]
      },
      {
       "output_type": "stream",
       "stream": "stderr",
       "text": [
        "INFO:ambry.library:    + ffiec.gov-cra_disclosures-d1_2\n"
       ]
      },
      {
       "output_type": "stream",
       "stream": "stdout",
       "text": [
        "ambry.library 818 INFO     + ffiec.gov-cra_disclosures-d2_1\n"
       ]
      },
      {
       "output_type": "stream",
       "stream": "stderr",
       "text": [
        "INFO:ambry.library:    + ffiec.gov-cra_disclosures-d2_1\n"
       ]
      },
      {
       "output_type": "stream",
       "stream": "stdout",
       "text": [
        "ambry.library 818 INFO     + ffiec.gov-cra_disclosures-d2_2\n"
       ]
      },
      {
       "output_type": "stream",
       "stream": "stderr",
       "text": [
        "INFO:ambry.library:    + ffiec.gov-cra_disclosures-d2_2\n"
       ]
      },
      {
       "output_type": "stream",
       "stream": "stdout",
       "text": [
        "ambry.library 818 INFO     + ffiec.gov-cra_disclosures-d3_0\n"
       ]
      },
      {
       "output_type": "stream",
       "stream": "stderr",
       "text": [
        "INFO:ambry.library:    + ffiec.gov-cra_disclosures-d3_0\n"
       ]
      },
      {
       "output_type": "stream",
       "stream": "stdout",
       "text": [
        "ambry.library 818 INFO     + ffiec.gov-cra_disclosures-d4_0\n"
       ]
      },
      {
       "output_type": "stream",
       "stream": "stderr",
       "text": [
        "INFO:ambry.library:    + ffiec.gov-cra_disclosures-d4_0\n"
       ]
      },
      {
       "output_type": "stream",
       "stream": "stdout",
       "text": [
        "ambry.library 818 INFO     + ffiec.gov-cra_disclosures-d5_0\n"
       ]
      },
      {
       "output_type": "stream",
       "stream": "stderr",
       "text": [
        "INFO:ambry.library:    + ffiec.gov-cra_disclosures-d5_0\n"
       ]
      },
      {
       "output_type": "stream",
       "stream": "stdout",
       "text": [
        "ambry.library 818 INFO     + ffiec.gov-cra_disclosures-d6_0\n"
       ]
      },
      {
       "output_type": "stream",
       "stream": "stderr",
       "text": [
        "INFO:ambry.library:    + ffiec.gov-cra_disclosures-d6_0\n"
       ]
      }
     ]
    },
    {
     "cell_type": "code",
     "collapsed": false,
     "input": [],
     "language": "python",
     "metadata": {},
     "outputs": [
      {
       "metadata": {},
       "output_type": "pyout",
       "prompt_number": 54,
       "text": [
        "41908"
       ]
      }
     ],
     "prompt_number": 54
    },
    {
     "cell_type": "code",
     "collapsed": false,
     "input": [
      "!ls -sh sd_county_disclosures.csv"
     ],
     "language": "python",
     "metadata": {},
     "outputs": [
      {
       "output_type": "stream",
       "stream": "stdout",
       "text": [
        "3.7M sd_county_disclosures.csv\r\n"
       ]
      }
     ],
     "prompt_number": 56
    },
    {
     "cell_type": "markdown",
     "metadata": {},
     "source": [
      "[SD County Disclosures](sd_county_disclosures.csv)"
     ]
    },
    {
     "cell_type": "code",
     "collapsed": false,
     "input": [
      "l.find(name='cra')\n",
      "\n"
     ],
     "language": "python",
     "metadata": {},
     "outputs": [
      {
       "ename": "NameError",
       "evalue": "name 'l' is not defined",
       "output_type": "pyerr",
       "traceback": [
        "\u001b[1;31m---------------------------------------------------------------------------\u001b[0m\n\u001b[1;31mNameError\u001b[0m                                 Traceback (most recent call last)",
        "\u001b[1;32m<ipython-input-1-9ca7c052f459>\u001b[0m in \u001b[0;36m<module>\u001b[1;34m()\u001b[0m\n\u001b[1;32m----> 1\u001b[1;33m \u001b[0ml\u001b[0m\u001b[1;33m.\u001b[0m\u001b[0mfind\u001b[0m\u001b[1;33m(\u001b[0m\u001b[0mname\u001b[0m\u001b[1;33m=\u001b[0m\u001b[1;34m'cra'\u001b[0m\u001b[1;33m)\u001b[0m\u001b[1;33m\u001b[0m\u001b[0m\n\u001b[0m\u001b[0;32m      2\u001b[0m \u001b[1;33m\u001b[0m\u001b[0m\n",
        "\u001b[1;31mNameError\u001b[0m: name 'l' is not defined"
       ]
      }
     ],
     "prompt_number": 1
    },
    {
     "cell_type": "code",
     "collapsed": false,
     "input": [],
     "language": "python",
     "metadata": {},
     "outputs": []
    }
   ],
   "metadata": {}
  }
 ]
}