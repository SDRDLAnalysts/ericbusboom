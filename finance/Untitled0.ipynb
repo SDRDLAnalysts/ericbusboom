{
 "metadata": {
  "name": "",
  "signature": "sha256:f257caf179f67e6afd602a1c7e0b4788b1c3122c839eda115203fadd2b9c6cca"
 },
 "nbformat": 3,
 "nbformat_minor": 0,
 "worksheets": []
}