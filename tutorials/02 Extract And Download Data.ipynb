{
 "metadata": {
  "name": "",
  "signature": "sha256:2f48fb883a9905c55af2af19ffb60c0bb7c94c95226d26ba259702b03437bc74"
 },
 "nbformat": 3,
 "nbformat_minor": 0,
 "worksheets": [
  {
   "cells": [
    {
     "cell_type": "heading",
     "level": 1,
     "metadata": {},
     "source": [
      "Extracting and Downloading Data With Ambry"
     ]
    },
    {
     "cell_type": "markdown",
     "metadata": {},
     "source": [
      "While the Ambry library provides a convenient way to acess data, it can be dificult to install and keep up to date, particularly on Windows. Fortunately, you can use Ambry on the ipython.sandiegodata.org server to generate files that you can download as CSV to your own machine. \n",
      "\n",
      "In this tutorial, we will use Ambry to get data into Pandas, save it as CSV, and create a link to allow you to download the file. We'll jump right into using a dataset; for details about how to explore datasets in Ambry, see the [01 Explore Datasets with Ambry](01%20Explore%20Datasets%20with%20Ambry.ipynb) tutorial. \n",
      "\n",
      "First, we import ambry and get the partition, as described in the previous tutorial:\n"
     ]
    },
    {
     "cell_type": "code",
     "collapsed": false,
     "input": [
      "import ambry\n",
      "l = ambry.ilibrary()\n",
      "p = l.get('sandiego.gov-businesses-orig-businesses').partition\n",
      "\n",
      "# This bit hides some warning that Pandas generates for our installation\n",
      "import warnings\n",
      "warnings.filterwarnings('ignore')\n"
     ],
     "language": "python",
     "metadata": {},
     "outputs": [],
     "prompt_number": 15
    },
    {
     "cell_type": "markdown",
     "metadata": {},
     "source": [
      "Now we have a handle on the partition. Partitions are based on SQlite, a popular single-file database, so we can run SQL queries on the data. First, we'll run a simple query to demonstrate its use, and then export the result to Pandas. This idiom uses the `select()` method of the partition, while more general queries would use the `query()` method. "
     ]
    },
    {
     "cell_type": "code",
     "collapsed": false,
     "input": [
      "bus = p.select('SELECT count(*) FROM businesses').pandas\n",
      "bus.head()"
     ],
     "language": "python",
     "metadata": {},
     "outputs": [
      {
       "html": [
        "<div style=\"max-height:1000px;max-width:1500px;overflow:auto;\">\n",
        "<table border=\"1\" class=\"dataframe\">\n",
        "  <thead>\n",
        "    <tr style=\"text-align: right;\">\n",
        "      <th></th>\n",
        "      <th>count(*)</th>\n",
        "    </tr>\n",
        "  </thead>\n",
        "  <tbody>\n",
        "    <tr>\n",
        "      <th>0</th>\n",
        "      <td> 55598</td>\n",
        "    </tr>\n",
        "  </tbody>\n",
        "</table>\n",
        "</div>"
       ],
       "metadata": {},
       "output_type": "pyout",
       "prompt_number": 16,
       "text": [
        "   count(*)\n",
        "0     55598"
       ]
      }
     ],
     "prompt_number": 16
    },
    {
     "cell_type": "markdown",
     "metadata": {},
     "source": [
      "With only 55K records, this dataset is easy to load completely into memory, and we can do that with a simple query. \n"
     ]
    },
    {
     "cell_type": "code",
     "collapsed": false,
     "input": [
      "bus = p.select('SELECT * FROM businesses').pandas\n",
      "bus.head()"
     ],
     "language": "python",
     "metadata": {},
     "outputs": [
      {
       "html": [
        "<div style=\"max-height:1000px;max-width:1500px;overflow:auto;\">\n",
        "<table border=\"1\" class=\"dataframe\">\n",
        "  <thead>\n",
        "    <tr style=\"text-align: right;\">\n",
        "      <th></th>\n",
        "      <th>businesses_id</th>\n",
        "      <th>acct_no</th>\n",
        "      <th>dba</th>\n",
        "      <th>incorp_type</th>\n",
        "      <th>address</th>\n",
        "      <th>city</th>\n",
        "      <th>zip</th>\n",
        "      <th>zip5</th>\n",
        "      <th>zip4</th>\n",
        "      <th>state</th>\n",
        "      <th>phone</th>\n",
        "      <th>owner</th>\n",
        "      <th>created</th>\n",
        "      <th>started</th>\n",
        "      <th>expires</th>\n",
        "      <th>naics</th>\n",
        "      <th>desc</th>\n",
        "    </tr>\n",
        "  </thead>\n",
        "  <tbody>\n",
        "    <tr>\n",
        "      <th>0</th>\n",
        "      <td> 1</td>\n",
        "      <td> 1981012901</td>\n",
        "      <td> #1 Fifth Avenue</td>\n",
        "      <td> corp</td>\n",
        "      <td>                 3845 05Th Ave</td>\n",
        "      <td> San Diego</td>\n",
        "      <td> 92103-3140</td>\n",
        "      <td> 92103</td>\n",
        "      <td> 3140</td>\n",
        "      <td> CA</td>\n",
        "      <td>               </td>\n",
        "      <td>           Pubway Corp</td>\n",
        "      <td> 1981-12-09</td>\n",
        "      <td> 1981-12-09</td>\n",
        "      <td> 2014-11-30</td>\n",
        "      <td>    722</td>\n",
        "      <td>         Food Services &amp; Drinking Places</td>\n",
        "    </tr>\n",
        "    <tr>\n",
        "      <th>1</th>\n",
        "      <td> 2</td>\n",
        "      <td> 2012052842</td>\n",
        "      <td>       $10 Shoes</td>\n",
        "      <td> corp</td>\n",
        "      <td>     5075 Federal Blvd Suite B</td>\n",
        "      <td> San Diego</td>\n",
        "      <td> 92102-2652</td>\n",
        "      <td> 92102</td>\n",
        "      <td> 2652</td>\n",
        "      <td> CA</td>\n",
        "      <td> (619) 527-3391</td>\n",
        "      <td>   Mariellas Shoes Inc</td>\n",
        "      <td> 2012-10-22</td>\n",
        "      <td> 2012-11-01</td>\n",
        "      <td> 2014-10-31</td>\n",
        "      <td>  44821</td>\n",
        "      <td>                             Shoe Stores</td>\n",
        "    </tr>\n",
        "    <tr>\n",
        "      <th>2</th>\n",
        "      <td> 3</td>\n",
        "      <td> 2007029380</td>\n",
        "      <td>       $10 Shoes</td>\n",
        "      <td> corp</td>\n",
        "      <td> 3807 Fairmount Ave Suite 300B</td>\n",
        "      <td> San Diego</td>\n",
        "      <td> 92105-2659</td>\n",
        "      <td> 92105</td>\n",
        "      <td> 2659</td>\n",
        "      <td> CA</td>\n",
        "      <td> (619) 281-8364</td>\n",
        "      <td> The M Enterprises Inc</td>\n",
        "      <td> 2007-11-23</td>\n",
        "      <td> 2007-10-12</td>\n",
        "      <td> 2014-10-31</td>\n",
        "      <td>    448</td>\n",
        "      <td>  Clothing &amp; Clothing Accessories Stores</td>\n",
        "    </tr>\n",
        "    <tr>\n",
        "      <th>3</th>\n",
        "      <td> 4</td>\n",
        "      <td> 2010034224</td>\n",
        "      <td> % Natural Gomez</td>\n",
        "      <td> sole</td>\n",
        "      <td>            3073 Fairmount Ave</td>\n",
        "      <td> San Diego</td>\n",
        "      <td> 92105-4638</td>\n",
        "      <td> 92105</td>\n",
        "      <td> 4638</td>\n",
        "      <td> CA</td>\n",
        "      <td> (619) 417-0105</td>\n",
        "      <td>           Juana Gomez</td>\n",
        "      <td> 2010-11-12</td>\n",
        "      <td> 2010-11-12</td>\n",
        "      <td> 2014-11-30</td>\n",
        "      <td> 446199</td>\n",
        "      <td> All Other Health &amp; Personal Care Stores</td>\n",
        "    </tr>\n",
        "    <tr>\n",
        "      <th>4</th>\n",
        "      <td> 5</td>\n",
        "      <td> 2007016185</td>\n",
        "      <td>     +A Partners</td>\n",
        "      <td> corp</td>\n",
        "      <td>                3916 Normal St</td>\n",
        "      <td> San Diego</td>\n",
        "      <td> 92103-3413</td>\n",
        "      <td> 92103</td>\n",
        "      <td> 3413</td>\n",
        "      <td> CA</td>\n",
        "      <td> (619) 294-4477</td>\n",
        "      <td>           +A Partners</td>\n",
        "      <td> 2007-07-11</td>\n",
        "      <td> 2004-07-01</td>\n",
        "      <td> 2014-06-30</td>\n",
        "      <td>    531</td>\n",
        "      <td>                             Real Estate</td>\n",
        "    </tr>\n",
        "  </tbody>\n",
        "</table>\n",
        "</div>"
       ],
       "metadata": {},
       "output_type": "pyout",
       "prompt_number": 17,
       "text": [
        "   businesses_id     acct_no              dba incorp_type  \\\n",
        "0              1  1981012901  #1 Fifth Avenue        corp   \n",
        "1              2  2012052842        $10 Shoes        corp   \n",
        "2              3  2007029380        $10 Shoes        corp   \n",
        "3              4  2010034224  % Natural Gomez        sole   \n",
        "4              5  2007016185      +A Partners        corp   \n",
        "\n",
        "                         address       city         zip   zip5  zip4 state  \\\n",
        "0                  3845 05Th Ave  San Diego  92103-3140  92103  3140    CA   \n",
        "1      5075 Federal Blvd Suite B  San Diego  92102-2652  92102  2652    CA   \n",
        "2  3807 Fairmount Ave Suite 300B  San Diego  92105-2659  92105  2659    CA   \n",
        "3             3073 Fairmount Ave  San Diego  92105-4638  92105  4638    CA   \n",
        "4                 3916 Normal St  San Diego  92103-3413  92103  3413    CA   \n",
        "\n",
        "            phone                  owner     created     started     expires  \\\n",
        "0                            Pubway Corp  1981-12-09  1981-12-09  2014-11-30   \n",
        "1  (619) 527-3391    Mariellas Shoes Inc  2012-10-22  2012-11-01  2014-10-31   \n",
        "2  (619) 281-8364  The M Enterprises Inc  2007-11-23  2007-10-12  2014-10-31   \n",
        "3  (619) 417-0105            Juana Gomez  2010-11-12  2010-11-12  2014-11-30   \n",
        "4  (619) 294-4477            +A Partners  2007-07-11  2004-07-01  2014-06-30   \n",
        "\n",
        "    naics                                     desc  \n",
        "0     722          Food Services & Drinking Places  \n",
        "1   44821                              Shoe Stores  \n",
        "2     448   Clothing & Clothing Accessories Stores  \n",
        "3  446199  All Other Health & Personal Care Stores  \n",
        "4     531                              Real Estate  "
       ]
      }
     ],
     "prompt_number": 17
    },
    {
     "cell_type": "markdown",
     "metadata": {},
     "source": [
      "At this point, you can do any analysis you'd like in Pandas, but for this tutorial, the goal is to dump the file to CSV and download it. This is valuable if you don't have Ambry installed locally, or would like to work with the data in another tool. \n",
      "\n",
      "The first step is to write the data to CSV. this will create a file in the same directory as the notebook file. "
     ]
    },
    {
     "cell_type": "code",
     "collapsed": false,
     "input": [
      "bus.to_csv('sd_businesses.csv')"
     ],
     "language": "python",
     "metadata": {},
     "outputs": [],
     "prompt_number": 18
    },
    {
     "cell_type": "markdown",
     "metadata": {},
     "source": [
      "We can look at the contents of the directory with standard Unix shell commands, using the `!` character to prefix the line.\n"
     ]
    },
    {
     "cell_type": "code",
     "collapsed": false,
     "input": [
      "!ls"
     ],
     "language": "python",
     "metadata": {},
     "outputs": [
      {
       "output_type": "stream",
       "stream": "stdout",
       "text": [
        "Explore Datasets with Ambry.ipynb  sd_businesses.csv\r\n",
        "Extract And Download Data.ipynb\r\n"
       ]
      }
     ],
     "prompt_number": 19
    },
    {
     "cell_type": "markdown",
     "metadata": {},
     "source": [
      "The IPython server will return this file as a download if you have the right link. Fortunately, the browser can do most of the work in constructing the link, since it already has the link to the current notebook file. This requires a few simple steps:\n",
      "\n",
      "1. Create a Markdown cell. [Markdown](http://daringfireball.net/projects/markdown/) is a text formatting language. You can change the type of an IPython Notebook cell to Markdown by:\n",
      "  * Using the pulldown menu in the menu bar. By default, it displays 'Code'\n",
      "  * Using a keystroke. Press `ESC` to change to command mode. ( The border around the cell will turn to grey. ) Then press `M`. Press `RETURN` to edit the cell again. \n",
      "2. Enter the Markdown code for a link and reference the filename you just created. It looks like this: \n",
      "  * `[SD Business Link](sd_businesses.csv)`\n",
      "  \n",
      "So, we enter \"`[SD Business Link](sd_businesses.csv)`\" in a Markdown cell and get: \n",
      "\n",
      "[SD Business Link](sd_businesses.csv)\n",
      "\n",
      "Click on that link, and download your file.\n",
      "  "
     ]
    },
    {
     "cell_type": "code",
     "collapsed": false,
     "input": [],
     "language": "python",
     "metadata": {},
     "outputs": []
    }
   ],
   "metadata": {}
  }
 ]
}