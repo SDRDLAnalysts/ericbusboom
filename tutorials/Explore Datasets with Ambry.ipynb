{
 "metadata": {
  "name": "",
  "signature": "sha256:72cddddbf073d7c8ffe74b75a932a70b7f2e6d27ec0cf1bc0b7c2d0496c9ddea"
 },
 "nbformat": 3,
 "nbformat_minor": 0,
 "worksheets": [
  {
   "cells": [
    {
     "cell_type": "heading",
     "level": 1,
     "metadata": {},
     "source": [
      "Explore Datasets with Ambry"
     ]
    },
    {
     "cell_type": "markdown",
     "metadata": {},
     "source": [
      "Ambry is a data management library that provides a few features for finding datasets. This tutorial will demonstrate how to use Ambry to find data in the San Diego Regional Data Library's data library. \n",
      "\n",
      "The first thing to do is import Ambry and create a library. We'll use the "
     ]
    },
    {
     "cell_type": "code",
     "collapsed": false,
     "input": [
      "import ambry\n"
     ],
     "language": "python",
     "metadata": {},
     "outputs": []
    }
   ],
   "metadata": {}
  }
 ]
}