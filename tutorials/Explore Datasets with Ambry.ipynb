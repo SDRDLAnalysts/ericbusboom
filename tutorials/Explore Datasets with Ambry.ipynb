{
 "metadata": {
  "name": "",
  "signature": "sha256:9f9d7b2065b756aed41fd52b2d300d07c4e85ce7a7c68af0b0ca59e525621ae4"
 },
 "nbformat": 3,
 "nbformat_minor": 0,
 "worksheets": [
  {
   "cells": [
    {
     "cell_type": "heading",
     "level": 1,
     "metadata": {},
     "source": [
      "Explore Datasets with Ambry"
     ]
    },
    {
     "cell_type": "markdown",
     "metadata": {},
     "source": [
      "Ambry is a data management library that provides a few features for finding datasets. This tutorial will demonstrate how to use Ambry to find data in the San Diego Regional Data Library's data library. \n",
      "\n",
      "The first thing to do is import Ambry and create a library. We'll use the `ilibrary` object, since it is designed for use in IPython. "
     ]
    },
    {
     "cell_type": "code",
     "collapsed": false,
     "input": [
      "import ambry\n",
      "l = ambry.ilibrary()"
     ],
     "language": "python",
     "metadata": {},
     "outputs": [],
     "prompt_number": 1
    },
    {
     "cell_type": "markdown",
     "metadata": {},
     "source": [
      "The `l` object is a library that we can use to find an list datasets. First, listing all of the data is easy; Just use `l.list()` as the last line in the IPython cell, and IPython will pretty-print a list of datasets. "
     ]
    },
    {
     "cell_type": "code",
     "collapsed": false,
     "input": [
      "l.list()"
     ],
     "language": "python",
     "metadata": {},
     "outputs": [
      {
       "html": [
        "<table><tr><td>L R</td><td>d004001</td><td>abc.ca.gov-alcohol_licenses-orig-0.1.1</td></tr>\n",
        "<tr><td>LSR</td><td>d004002</td><td>abc.ca.gov-alcohol_licenses-orig-0.1.2</td></tr>\n",
        "<tr><td>S</td><td>d005001</td><td>bea.gov-international-transactions-orig-0.1.1</td></tr>\n",
        "<tr><td>L R</td><td>d006001</td><td>bea.gov-metro_gdp-orig-0.1.1</td></tr>\n",
        "<tr><td>L R</td><td>d007001</td><td>cde.ca.gov-api-combined-0.1.1</td></tr>\n",
        "<tr><td>L R</td><td>d007002</td><td>cde.ca.gov-api-combined-0.1.2</td></tr>\n",
        "<tr><td>L R</td><td>d007003</td><td>cde.ca.gov-api-combined-0.1.3</td></tr>\n",
        "<tr><td>L R</td><td>d007004</td><td>cde.ca.gov-api-combined-0.1.4</td></tr>\n",
        "<tr><td>L R</td><td>d008001</td><td>cde.ca.gov-api-orig-0.1.1</td></tr>\n",
        "<tr><td>L R</td><td>d008002</td><td>cde.ca.gov-api-orig-0.1.2</td></tr>\n",
        "<tr><td>L R</td><td>d009001</td><td>cde.ca.gov-celdt-orig-0.1.1</td></tr>\n",
        "<tr><td>L R</td><td>d00a001</td><td>cde.ca.gov-schools-combined-0.1.1</td></tr>\n",
        "<tr><td>L R</td><td>d00b002</td><td>cde.ca.gov-schools-orig-0.1.2</td></tr>\n",
        "<tr><td>L R</td><td>d02k001</td><td>cde.ca.gov-star-orig-0.1.1</td></tr>\n",
        "<tr><td>L R</td><td>d00c003</td><td>census.gov-2000_population-geo-orig-0.1.3</td></tr>\n",
        "<tr><td>L R</td><td>d00d006</td><td>census.gov-2010_population-geo-orig-0.1.6</td></tr>\n",
        "<tr><td>L R</td><td>d00h001</td><td>census.gov-acs-geo-orig-0.1.1</td></tr>\n",
        "<tr><td>L R</td><td>d024003</td><td>census.gov-acs-p5ye2012-0.0.3</td></tr>\n",
        "<tr><td>L R</td><td>d00i005</td><td>census.gov-geography-dim-orig-0.1.5</td></tr>\n",
        "<tr><td>L R</td><td>d00j004</td><td>census.gov-tigerline-2010-orig-0.1.4</td></tr>\n",
        "<tr><td>L R</td><td>d025001</td><td>census.gov-tigerline-2012-0.0.1</td></tr>\n",
        "<tr><td>L R</td><td>d025002</td><td>census.gov-tigerline-2012-0.0.2</td></tr>\n",
        "<tr><td>L R</td><td>d025003</td><td>census.gov-tigerline-2012-0.0.3</td></tr>\n",
        "<tr><td>L R</td><td>d00l003</td><td>chp.ca.gov-switrs-orig-0.1.3</td></tr>\n",
        "<tr><td>LSR</td><td>d00l004</td><td>chp.ca.gov-switrs-orig-0.1.4</td></tr>\n",
        "<tr><td>L R</td><td>d00p001</td><td>clarinova.com-collisions-casnd-0.1.1</td></tr>\n",
        "<tr><td>L R</td><td>d00q007</td><td>clarinova.com-crime-incidents-casnd-0.1.7</td></tr>\n",
        "<tr><td>L R</td><td>d00q008</td><td>clarinova.com-crime-incidents-casnd-geocoded-0.1.8</td></tr>\n",
        "<tr><td>L R</td><td>d02j002</td><td>clarinova.com-crime-incidents-casnd-linked-0.1.2</td></tr>\n",
        "<tr><td>L R</td><td>d00s004</td><td>clarinova.com-geocode-casnd-1.0.4</td></tr>\n",
        "<tr><td>L R</td><td>d00s005</td><td>clarinova.com-geocode-casnd-1.0.5</td></tr>\n",
        "<tr><td>L R</td><td>d00s006</td><td>clarinova.com-geocode-casnd-1.0.6</td></tr>\n",
        "<tr><td>L R</td><td>d00v005</td><td>clarinova.com-places-casnd-0.1.5</td></tr>\n",
        "<tr><td>L R</td><td>d00v006</td><td>clarinova.com-places-casnd-0.1.6</td></tr>\n",
        "<tr><td>L R</td><td>d00v007</td><td>clarinova.com-places-casnd-0.1.7</td></tr>\n",
        "<tr><td>L R</td><td>d00A001</td><td>clarinova.com-time-orig-0.1.1</td></tr>\n",
        "<tr><td>L R</td><td>d00F001</td><td>example.com-altdb-orig-0.1.1</td></tr>\n",
        "<tr><td>L R</td><td>dHSyDm4MNR001</td><td>example.com-random-0.0.1</td></tr>\n",
        "<tr><td>L R</td><td>dHSyDm4MNR002</td><td>example.com-random-0.0.2</td></tr>\n",
        "<tr><td>L R</td><td>d00G001</td><td>example.com-segmented-orig-0.1.1</td></tr>\n",
        "<tr><td>L R</td><td>d00H002</td><td>example.com-simple-orig-0.1.2</td></tr>\n",
        "<tr><td>L R</td><td>d00L002</td><td>sandag.org-crimeincidents-orig-0.1.2</td></tr>\n",
        "<tr><td>L R</td><td>d00M001</td><td>sandiego.gov-businesses-orig-0.1.1</td></tr>\n",
        "<tr><td>L R</td><td>d00N001</td><td>sangis.org-business-sites-orig-0.1.1</td></tr>\n",
        "<tr><td>L R</td><td>d00O001</td><td>sangis.org-landuse-orig-0.1.1</td></tr>\n",
        "<tr><td>L R</td><td>d00P001</td><td>sangis.org-neighborhoods-orig-0.1.1</td></tr>\n",
        "<tr><td>L R</td><td>d00Q001</td><td>sangis.org-parcels-orig-0.1.1</td></tr>\n",
        "<tr><td>L R</td><td>d00R001</td><td>sangis.org-places-orig-0.1.1</td></tr>\n",
        "<tr><td>L R</td><td>d00S001</td><td>sangis.org-street_lights-orig-0.1.1</td></tr>\n",
        "<tr><td>L R</td><td>d00T002</td><td>sangis.org-streets-orig-0.1.2</td></tr>\n",
        "<tr><td>S</td><td>d02b001</td><td>unlv.edu-state_plane-0.0.1</td></tr></table>"
       ],
       "metadata": {},
       "output_type": "pyout",
       "prompt_number": 2,
       "text": [
        "<ambry.identity.IdentitySet at 0x29d1bd0>"
       ]
      }
     ],
     "prompt_number": 2
    },
    {
     "cell_type": "markdown",
     "metadata": {},
     "source": [
      "The full list is interesting, but can be long and tedious. So, we'll use the more targed `l.find()` command to look for specific files. The `find()` command requires a `name` parameter to indicate that you want to find datasets that have a string as part of their name. So, to find a list of businesses, we might use: "
     ]
    },
    {
     "cell_type": "code",
     "collapsed": false,
     "input": [
      "l.find(name='business')"
     ],
     "language": "python",
     "metadata": {},
     "outputs": [
      {
       "html": [
        "<table><tr><td>L R</td><td>d00N001</td><td>sangis.org-business-sites-orig-0.1.1</td></tr>\n",
        "<tr><td>L R</td><td>d00M001</td><td>sandiego.gov-businesses-orig-0.1.1</td></tr></table>"
       ],
       "metadata": {},
       "output_type": "pyout",
       "prompt_number": 3,
       "text": [
        "<ambry.identity.IdentitySet at 0x2a4cdd0>"
       ]
      }
     ],
     "prompt_number": 3
    },
    {
     "cell_type": "markdown",
     "metadata": {},
     "source": [
      "There are two files, one from SANDAG, and one from the City of San Diego. There are two ways to refer to the file. The second column has the object number, which includes a version number, in this case `001`. The third column has the versioned nameLet's get the one from the City and look inside it. "
     ]
    },
    {
     "cell_type": "code",
     "collapsed": false,
     "input": [],
     "language": "python",
     "metadata": {},
     "outputs": []
    }
   ],
   "metadata": {}
  }
 ]
}