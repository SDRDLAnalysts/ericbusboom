{
 "metadata": {
  "name": "",
  "signature": "sha256:7146b2b4b0377787d33af45039bbe1095c4dbb65c26d8387297b92184baaed5b"
 },
 "nbformat": 3,
 "nbformat_minor": 0,
 "worksheets": [
  {
   "cells": [
    {
     "cell_type": "heading",
     "level": 1,
     "metadata": {},
     "source": [
      "Explore Datasets with Ambry"
     ]
    },
    {
     "cell_type": "markdown",
     "metadata": {},
     "source": [
      "Ambry is a data management library that provides a few features for finding datasets. This tutorial will demonstrate how to use Ambry to find data in the San Diego Regional Data Library's data library. \n",
      "\n",
      "The first thing to do is import Ambry and create a library. We'll use the `ilibrary` object, since it is designed for use in IPython. "
     ]
    },
    {
     "cell_type": "code",
     "collapsed": false,
     "input": [
      "import ambry\n",
      "l = ambry.ilibrary()"
     ],
     "language": "python",
     "metadata": {},
     "outputs": [],
     "prompt_number": 1
    },
    {
     "cell_type": "markdown",
     "metadata": {},
     "source": [
      "The `l` object is a library that we can use to find an list datasets. First, listing all of the data is easy; Just use `l.list()` as the last line in the IPython cell, and IPython will pretty-print a list of datasets. "
     ]
    },
    {
     "cell_type": "code",
     "collapsed": false,
     "input": [
      "l.list()"
     ],
     "language": "python",
     "metadata": {},
     "outputs": [
      {
       "html": [
        "<table><tr><td>L R</td><td>d004001</td><td>abc.ca.gov-alcohol_licenses-orig-0.1.1</td></tr>\n",
        "<tr><td>LSR</td><td>d004002</td><td>abc.ca.gov-alcohol_licenses-orig-0.1.2</td></tr>\n",
        "<tr><td>S</td><td>d005001</td><td>bea.gov-international-transactions-orig-0.1.1</td></tr>\n",
        "<tr><td>L R</td><td>d006001</td><td>bea.gov-metro_gdp-orig-0.1.1</td></tr>\n",
        "<tr><td>L R</td><td>d007001</td><td>cde.ca.gov-api-combined-0.1.1</td></tr>\n",
        "<tr><td>L R</td><td>d007002</td><td>cde.ca.gov-api-combined-0.1.2</td></tr>\n",
        "<tr><td>L R</td><td>d007003</td><td>cde.ca.gov-api-combined-0.1.3</td></tr>\n",
        "<tr><td>L R</td><td>d007004</td><td>cde.ca.gov-api-combined-0.1.4</td></tr>\n",
        "<tr><td>L R</td><td>d008001</td><td>cde.ca.gov-api-orig-0.1.1</td></tr>\n",
        "<tr><td>L R</td><td>d008002</td><td>cde.ca.gov-api-orig-0.1.2</td></tr>\n",
        "<tr><td>L R</td><td>d009001</td><td>cde.ca.gov-celdt-orig-0.1.1</td></tr>\n",
        "<tr><td>L R</td><td>d00a001</td><td>cde.ca.gov-schools-combined-0.1.1</td></tr>\n",
        "<tr><td>L R</td><td>d00b002</td><td>cde.ca.gov-schools-orig-0.1.2</td></tr>\n",
        "<tr><td>L R</td><td>d02k001</td><td>cde.ca.gov-star-orig-0.1.1</td></tr>\n",
        "<tr><td>L R</td><td>d00c003</td><td>census.gov-2000_population-geo-orig-0.1.3</td></tr>\n",
        "<tr><td>L R</td><td>d00d006</td><td>census.gov-2010_population-geo-orig-0.1.6</td></tr>\n",
        "<tr><td>L R</td><td>d00h001</td><td>census.gov-acs-geo-orig-0.1.1</td></tr>\n",
        "<tr><td>L R</td><td>d024003</td><td>census.gov-acs-p5ye2012-0.0.3</td></tr>\n",
        "<tr><td>L R</td><td>d00i005</td><td>census.gov-geography-dim-orig-0.1.5</td></tr>\n",
        "<tr><td>L R</td><td>d00j004</td><td>census.gov-tigerline-2010-orig-0.1.4</td></tr>\n",
        "<tr><td>L R</td><td>d025001</td><td>census.gov-tigerline-2012-0.0.1</td></tr>\n",
        "<tr><td>L R</td><td>d025002</td><td>census.gov-tigerline-2012-0.0.2</td></tr>\n",
        "<tr><td>L R</td><td>d025003</td><td>census.gov-tigerline-2012-0.0.3</td></tr>\n",
        "<tr><td>L R</td><td>d00l003</td><td>chp.ca.gov-switrs-orig-0.1.3</td></tr>\n",
        "<tr><td>LSR</td><td>d00l004</td><td>chp.ca.gov-switrs-orig-0.1.4</td></tr>\n",
        "<tr><td>L R</td><td>d00p001</td><td>clarinova.com-collisions-casnd-0.1.1</td></tr>\n",
        "<tr><td>L R</td><td>d00q007</td><td>clarinova.com-crime-incidents-casnd-0.1.7</td></tr>\n",
        "<tr><td>L R</td><td>d00q008</td><td>clarinova.com-crime-incidents-casnd-geocoded-0.1.8</td></tr>\n",
        "<tr><td>L R</td><td>d02j002</td><td>clarinova.com-crime-incidents-casnd-linked-0.1.2</td></tr>\n",
        "<tr><td>L R</td><td>d00s004</td><td>clarinova.com-geocode-casnd-1.0.4</td></tr>\n",
        "<tr><td>L R</td><td>d00s005</td><td>clarinova.com-geocode-casnd-1.0.5</td></tr>\n",
        "<tr><td>L R</td><td>d00s006</td><td>clarinova.com-geocode-casnd-1.0.6</td></tr>\n",
        "<tr><td>L R</td><td>d00v005</td><td>clarinova.com-places-casnd-0.1.5</td></tr>\n",
        "<tr><td>L R</td><td>d00v006</td><td>clarinova.com-places-casnd-0.1.6</td></tr>\n",
        "<tr><td>L R</td><td>d00v007</td><td>clarinova.com-places-casnd-0.1.7</td></tr>\n",
        "<tr><td>L R</td><td>d00A001</td><td>clarinova.com-time-orig-0.1.1</td></tr>\n",
        "<tr><td>L R</td><td>d00F001</td><td>example.com-altdb-orig-0.1.1</td></tr>\n",
        "<tr><td>L R</td><td>dHSyDm4MNR001</td><td>example.com-random-0.0.1</td></tr>\n",
        "<tr><td>L R</td><td>dHSyDm4MNR002</td><td>example.com-random-0.0.2</td></tr>\n",
        "<tr><td>L R</td><td>d00G001</td><td>example.com-segmented-orig-0.1.1</td></tr>\n",
        "<tr><td>L R</td><td>d00H002</td><td>example.com-simple-orig-0.1.2</td></tr>\n",
        "<tr><td>L R</td><td>d00L002</td><td>sandag.org-crimeincidents-orig-0.1.2</td></tr>\n",
        "<tr><td>L R</td><td>d00M001</td><td>sandiego.gov-businesses-orig-0.1.1</td></tr>\n",
        "<tr><td>L R</td><td>d00N001</td><td>sangis.org-business-sites-orig-0.1.1</td></tr>\n",
        "<tr><td>L R</td><td>d00O001</td><td>sangis.org-landuse-orig-0.1.1</td></tr>\n",
        "<tr><td>L R</td><td>d00P001</td><td>sangis.org-neighborhoods-orig-0.1.1</td></tr>\n",
        "<tr><td>L R</td><td>d00Q001</td><td>sangis.org-parcels-orig-0.1.1</td></tr>\n",
        "<tr><td>L R</td><td>d00R001</td><td>sangis.org-places-orig-0.1.1</td></tr>\n",
        "<tr><td>L R</td><td>d00S001</td><td>sangis.org-street_lights-orig-0.1.1</td></tr>\n",
        "<tr><td>L R</td><td>d00T002</td><td>sangis.org-streets-orig-0.1.2</td></tr>\n",
        "<tr><td>S</td><td>d02b001</td><td>unlv.edu-state_plane-0.0.1</td></tr></table>"
       ],
       "metadata": {},
       "output_type": "pyout",
       "prompt_number": 2,
       "text": [
        "<ambry.identity.IdentitySet at 0x29d1bd0>"
       ]
      }
     ],
     "prompt_number": 2
    },
    {
     "cell_type": "markdown",
     "metadata": {},
     "source": [
      "The full list is interesting, but can be long and tedious. So, we'll use the more targed `l.find()` command to look for specific files. The `find()` command requires a `name` parameter to indicate that you want to find datasets that have a string as part of their name. So, to find a list of businesses, we might use: "
     ]
    },
    {
     "cell_type": "code",
     "collapsed": false,
     "input": [
      "l.find(name='business')"
     ],
     "language": "python",
     "metadata": {},
     "outputs": [
      {
       "html": [
        "<table><tr><td>L R</td><td>d00N001</td><td>sangis.org-business-sites-orig-0.1.1</td></tr>\n",
        "<tr><td>L R</td><td>d00M001</td><td>sandiego.gov-businesses-orig-0.1.1</td></tr></table>"
       ],
       "metadata": {},
       "output_type": "pyout",
       "prompt_number": 3,
       "text": [
        "<ambry.identity.IdentitySet at 0x2a4cdd0>"
       ]
      }
     ],
     "prompt_number": 3
    },
    {
     "cell_type": "markdown",
     "metadata": {},
     "source": [
      "There are two files, one from SANDAG, and one from the City of San Diego. There are two ways to refer to the file. The second column has the object number, which includes a version number, in this case `001`. The third column has the versioned name. You can use either of these references when fetching a file, although the name is more informative. \n",
      "\n",
      "Let's get the one from the City and look inside it. We'll use the name, and we'll cut of the version number, which tells Ambry to fetch the last version. Also, we'll print out the value that is returned\n",
      "\n",
      "*Note!* the `get()` function might take a long time to run if the file is large. Wait a few minutes. It will only take a long time the first time you fetch the file. "
     ]
    },
    {
     "cell_type": "code",
     "collapsed": false,
     "input": [
      "b = l.get('sandiego.gov-businesses-orig')\n",
      "b"
     ],
     "language": "python",
     "metadata": {},
     "outputs": [
      {
       "html": [
        "<table>\n",
        "<tr><td><strong>Identity</strong></td><td></td></tr>\n",
        "<tr><td align=\"right\">Vid</td><td>d00M001</td></tr>\n",
        "<tr><td align=\"right\">Sname</td><td>sandiego.gov-businesses-orig</td></tr>\n",
        "<tr><td align=\"right\">Vname</td><td>sandiego.gov-businesses-orig-0.1.1</td></tr>\n",
        "<tr><td align=\"left\">Locations</td><td>L</td></tr>\n",
        "<tr><td><strong>Source</strong></td><td></td></tr>\n",
        "<tr><td align=\"right\">Db</td><td>/ambry/library/sandiego.gov/businesses-orig-0.1.1.db</td></tr>\n",
        "<tr><td align=\"right\">Created</td><td></td></tr>\n",
        "<tr><td align=\"right\">Built</td><td>2014-02-03T04:40:56.175442</td></tr>\n",
        "<tr><td align=\"right\">Build_Time</td><td>12.21s</td></tr>\n",
        "<tr><td align=\"right\">Prepared</td><td>2014-02-03T04:40:43.796980</td></tr>\n",
        "<tr><td align=\"left\">Partitions</td><td>1</td></tr>\n",
        "</table>"
       ],
       "metadata": {},
       "output_type": "pyout",
       "prompt_number": 6,
       "text": [
        "<ambry.bundle.bundle.DbBundle at 0x2a5e2d0>"
       ]
      }
     ],
     "prompt_number": 6
    },
    {
     "cell_type": "markdown",
     "metadata": {},
     "source": [
      "The object that is returned by the `get()` call,  `b` is a **bundle**, a database file that holds all of the metadata for the data package. Printing it returns some of the information about the file. The one that is most important right now is the _partitions_ entry. **Partitions** hold the actual data, so we'll have to get a partition to do any data analysis. \n"
     ]
    },
    {
     "cell_type": "code",
     "collapsed": false,
     "input": [
      "b.partitions"
     ],
     "language": "python",
     "metadata": {},
     "outputs": [
      {
       "html": [
        "<table>\n",
        "<tr><th>Id</th><th>Vid</th><th>Name</th><th>VName</th><th>Table</th></tr>\n",
        "<tr><td>p00M001</td><td>p00M001001</td><td>sandiego.gov-businesses-orig-businesses</td><td>sandiego.gov-businesses-orig-businesses-0.1.1</td><td>businesses</td></tr>\n",
        "</table>"
       ],
       "metadata": {},
       "output_type": "pyout",
       "prompt_number": 7,
       "text": [
        "<ambry.partitions.Partitions at 0x2a5ea50>"
       ]
      }
     ],
     "prompt_number": 7
    },
    {
     "cell_type": "markdown",
     "metadata": {},
     "source": [
      "This bundle has only one partition, and it has a table of data named `businesses`. That's probably what we want, so lets get it, again using `get()`."
     ]
    },
    {
     "cell_type": "code",
     "collapsed": false,
     "input": [
      "l.get('sandiego.gov-businesses-orig-businesses')"
     ],
     "language": "python",
     "metadata": {},
     "outputs": [
      {
       "html": [
        "<table>\n",
        "<tr><td><strong>Identity</strong></td><td></td></tr>\n",
        "<tr><td align=\"right\">Vid</td><td>d00M001</td></tr>\n",
        "<tr><td align=\"right\">Sname</td><td>sandiego.gov-businesses-orig</td></tr>\n",
        "<tr><td align=\"right\">Vname</td><td>sandiego.gov-businesses-orig-0.1.1</td></tr>\n",
        "<tr><td align=\"left\">Locations</td><td>L</td></tr>\n",
        "<tr><td><strong>Source</strong></td><td></td></tr>\n",
        "<tr><td align=\"right\">Db</td><td>/ambry/library/sandiego.gov/businesses-orig-0.1.1.db</td></tr>\n",
        "<tr><td align=\"right\">Created</td><td></td></tr>\n",
        "<tr><td align=\"right\">Built</td><td>2014-02-03T04:40:56.175442</td></tr>\n",
        "<tr><td align=\"right\">Build_Time</td><td>12.21s</td></tr>\n",
        "<tr><td align=\"right\">Prepared</td><td>2014-02-03T04:40:43.796980</td></tr>\n",
        "<tr><td align=\"left\">Partitions</td><td>1</td></tr>\n",
        "</table>"
       ],
       "metadata": {},
       "output_type": "pyout",
       "prompt_number": 8,
       "text": [
        "<ambry.bundle.bundle.DbBundle at 0x2a5e2d0>"
       ]
      }
     ],
     "prompt_number": 8
    },
    {
     "cell_type": "markdown",
     "metadata": {},
     "source": [
      "Huh? It printed out the same thing as when we got the bundle!\n",
      "\n",
      "The `get()` funtion _always_ returns a bundle, but when you request a partition, it sets an internal value with a reference to the partition. We can get it as `.partition`:"
     ]
    },
    {
     "cell_type": "code",
     "collapsed": false,
     "input": [
      "p = l.get('sandiego.gov-businesses-orig-businesses').partition\n",
      "p"
     ],
     "language": "python",
     "metadata": {},
     "outputs": [
      {
       "html": [
        "<p>------ Partition: sandiego.gov-businesses-orig-businesses ------<br/>\n",
        "vid       : p00M001001<br/>\n",
        "name      : sandiego.gov-businesses-orig-businesses<br/>\n",
        "vname     : sandiego.gov-businesses-orig-businesses-0.1.1<br/>\n",
        "format    : db<br/>\n",
        "variation : orig<br/>\n",
        "dataset   : businesses<br/>\n",
        "source    : sandiego.gov<br/>\n",
        "version   : 0.1.1<br/>\n",
        "table     : businesses<br/>\n",
        "cache_key : sandiego.gov/businesses-orig-0.1.1/businesses.db<br/>\n",
        "id        : p00M001<br/>\n",
        "revision  : 1<br/>\n",
        "path      : /ambry/library/sandiego.gov/businesses-orig-0.1.1/businesses.db<br/>\n",
        "tables    : businesses<br/>\n",
        "</p>"
       ],
       "metadata": {},
       "output_type": "pyout",
       "prompt_number": 9,
       "text": [
        "<db partition: sandiego.gov-businesses-orig-businesses-0.1.1>"
       ]
      }
     ],
     "prompt_number": 9
    },
    {
     "cell_type": "raw",
     "metadata": {},
     "source": [
      "That's better; now we have a reference to a partition. ( Although the pretty-printer isn't nearly as pretty ... ) Now that we have a partition, we can look at the most interesting parts of it. First, the tables. "
     ]
    },
    {
     "cell_type": "code",
     "collapsed": false,
     "input": [
      "p.tables"
     ],
     "language": "python",
     "metadata": {},
     "outputs": [
      {
       "metadata": {},
       "output_type": "pyout",
       "prompt_number": 10,
       "text": [
        "[u'businesses']"
       ]
      }
     ],
     "prompt_number": 10
    },
    {
     "cell_type": "markdown",
     "metadata": {},
     "source": [
      "There is only one table"
     ]
    },
    {
     "cell_type": "code",
     "collapsed": false,
     "input": [
      "p.table"
     ],
     "language": "python",
     "metadata": {},
     "outputs": [
      {
       "ename": "TypeError",
       "evalue": "'Table' object is not callable",
       "output_type": "pyerr",
       "traceback": [
        "\u001b[1;31m---------------------------------------------------------------------------\u001b[0m\n\u001b[1;31mTypeError\u001b[0m                                 Traceback (most recent call last)",
        "\u001b[1;32m<ipython-input-11-7b27f975bfa0>\u001b[0m in \u001b[0;36m<module>\u001b[1;34m()\u001b[0m\n\u001b[1;32m----> 1\u001b[1;33m \u001b[0mp\u001b[0m\u001b[1;33m.\u001b[0m\u001b[0mtable\u001b[0m\u001b[1;33m(\u001b[0m\u001b[1;34m'businesses'\u001b[0m\u001b[1;33m)\u001b[0m\u001b[1;33m\u001b[0m\u001b[0m\n\u001b[0m",
        "\u001b[1;31mTypeError\u001b[0m: 'Table' object is not callable"
       ]
      }
     ],
     "prompt_number": 11
    },
    {
     "cell_type": "code",
     "collapsed": false,
     "input": [],
     "language": "python",
     "metadata": {},
     "outputs": []
    }
   ],
   "metadata": {}
  }
 ]
}