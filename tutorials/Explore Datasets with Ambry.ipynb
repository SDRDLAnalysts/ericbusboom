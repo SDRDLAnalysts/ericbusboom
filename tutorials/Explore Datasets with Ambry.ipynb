{
 "metadata": {
  "name": "",
  "signature": "sha256:ec5d0faa9d4c38d03df2ecc23b285517edf2cb00750be9c81f6d3d7d7b196932"
 },
 "nbformat": 3,
 "nbformat_minor": 0,
 "worksheets": [
  {
   "cells": [
    {
     "cell_type": "heading",
     "level": 1,
     "metadata": {},
     "source": [
      "Explore Datasets with Ambry"
     ]
    },
    {
     "cell_type": "markdown",
     "metadata": {},
     "source": [
      "Ambry is a data management library that provides a few features for finding datasets. This tutorial will demonstrate how to use Ambry to find data in the San Diego Regional Dat"
     ]
    },
    {
     "cell_type": "code",
     "collapsed": false,
     "input": [],
     "language": "python",
     "metadata": {},
     "outputs": []
    }
   ],
   "metadata": {}
  }
 ]
}