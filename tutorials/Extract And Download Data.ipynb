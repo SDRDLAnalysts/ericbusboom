{
 "metadata": {
  "name": "",
  "signature": "sha256:2ea87e838d6f077987b2814f3e3725217b7b10f148a676ca78c591b4d1f20099"
 },
 "nbformat": 3,
 "nbformat_minor": 0,
 "worksheets": [
  {
   "cells": [
    {
     "cell_type": "heading",
     "level": 1,
     "metadata": {},
     "source": [
      "Extracting and Downloading Data With Ambry"
     ]
    },
    {
     "cell_type": "markdown",
     "metadata": {},
     "source": [
      "While the Ambry library provides a convenient way to acess data, it can be dificult to install and keep up to date, particularly on Windows. Fortunately, you can use Ambry on the ipython.sandiegodata.org server to generate files that you can download to CSV to your own machine. \n",
      "\n",
      "In this tutorial, we will use Ambry to get data into pandas, save it as CSV, and create a link to allow you to download the file. We'll jump right into using a dataset; for details about how to explore datasets in Ambry, see the [Explore Datasets with Ambry](Explore%20Datasets%20with%20Ambry.ipynb) tutorial. \n",
      "\n",
      "First, we import ambry and get the partition, as described in the revious tutorial:\n"
     ]
    },
    {
     "cell_type": "code",
     "collapsed": false,
     "input": [
      "import ambry\n",
      "l = ambry.ilibrary()\n",
      "p = l.get('sandiego.gov-businesses-orig-businesses').partition"
     ],
     "language": "python",
     "metadata": {},
     "outputs": [],
     "prompt_number": 1
    },
    {
     "cell_type": "markdown",
     "metadata": {},
     "source": [
      "Now we have a handle on the partition. Partitions are based on SQlite, a popular single-file database, so we can "
     ]
    }
   ],
   "metadata": {}
  }
 ]
}