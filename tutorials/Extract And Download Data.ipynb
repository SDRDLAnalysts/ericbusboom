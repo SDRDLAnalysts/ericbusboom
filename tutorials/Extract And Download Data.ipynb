{
 "metadata": {
  "name": "",
  "signature": "sha256:d09111d6c1849863c72d2c37ba51ed51cd011936acea2cbe650bbe2306a860c2"
 },
 "nbformat": 3,
 "nbformat_minor": 0,
 "worksheets": [
  {
   "cells": [
    {
     "cell_type": "heading",
     "level": 1,
     "metadata": {},
     "source": [
      "Extracting and Downloading Data With Ambry"
     ]
    },
    {
     "cell_type": "markdown",
     "metadata": {},
     "source": [
      "While the Ambry library provides a convenient way to acess data, it can be dificult to install and keep up to date, particularly on Windows. Fortunately, you can use Ambry on the ipython.sandiegodata.org server to generate files that you can download to CSV to your own machine. \n",
      "\n",
      "In this tutorial, we will use Ambry to get data into pandas, save it as CSV, and create a link to allow you to download the file. We'll jump right into using a dataset; for details about how to explore datasets in Ambry, see the [Explore Datasets with Ambry]("
     ]
    },
    {
     "cell_type": "code",
     "collapsed": false,
     "input": [],
     "language": "python",
     "metadata": {},
     "outputs": []
    }
   ],
   "metadata": {}
  }
 ]
}