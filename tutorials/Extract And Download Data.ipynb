{
 "metadata": {
  "name": "",
  "signature": "sha256:43447faef2f555ea839c1bba05ef3823e57558ba33e30850e61f7d8347b423c2"
 },
 "nbformat": 3,
 "nbformat_minor": 0,
 "worksheets": [
  {
   "cells": [
    {
     "cell_type": "heading",
     "level": 1,
     "metadata": {},
     "source": [
      "Extracting and Downloading Data With Ambry"
     ]
    },
    {
     "cell_type": "markdown",
     "metadata": {},
     "source": [
      "While the Ambry library provides a convenient way to acess data, it can be dificult to install and keep up to date, particularly on Windows. Fortunately, you can use Ambry on the ipython.sandiegodata.org serv"
     ]
    }
   ],
   "metadata": {}
  }
 ]
}