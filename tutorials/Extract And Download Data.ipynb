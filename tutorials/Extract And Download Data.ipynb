{
 "metadata": {
  "name": "",
  "signature": "sha256:1e5f70ecabb43bfb4e27e9caa39b9fb357387254777ccf864d1f96a05f2b84b3"
 },
 "nbformat": 3,
 "nbformat_minor": 0,
 "worksheets": [
  {
   "cells": [
    {
     "cell_type": "heading",
     "level": 1,
     "metadata": {},
     "source": [
      "Extracting and Downloading Data With Ambry"
     ]
    },
    {
     "cell_type": "markdown",
     "metadata": {},
     "source": [
      "While the Ambry library provides a convenient way to acess data, it can be dificult to install and keep up to date, particularly on Windows. Fortunately, you can use Ambry on the ipython.sandiegodata.org server to generate files that you can download to CSV to your own machine. \n",
      "\n",
      "In this tutorial, we will use Ambry to get data into pandas, save it as CSV, and create a link to allow you to download the file. We'll jump right into using a dataset; for details about how to explore datasets in Ambry, see the [Explore Datasets with Ambry](Explore%20Datasets%20with%20Ambry.ipynb) tutorial. \n",
      "\n",
      "First, we import ambry and get the partition, as described in the revious tutorial:\n"
     ]
    },
    {
     "cell_type": "code",
     "collapsed": false,
     "input": [
      "import ambry\n",
      "l = ambry.ilibrary()\n",
      "p = l.get('sandiego.gov-businesses-orig-businesses').partition\n",
      "\n",
      "# This bit hides some warning that Pandas generates for our installation\n",
      "import warnings\n",
      "warnings.filterwarnings('ignore')\n"
     ],
     "language": "python",
     "metadata": {},
     "outputs": [],
     "prompt_number": 6
    },
    {
     "cell_type": "markdown",
     "metadata": {},
     "source": [
      "Now we have a handle on the partition. Partitions are based on SQlite, a popular single-file database, so we can run SQL queries on the data. First, we'll run a simple query to demonstrate, and export the result to Pandas. This idiom uses the `select()` method of the partition, while more general queries would use the `query()` method. "
     ]
    },
    {
     "cell_type": "code",
     "collapsed": false,
     "input": [
      "bus = p.select('SELECT count(*) FROM businesses').pandas\n",
      "bus.head()"
     ],
     "language": "python",
     "metadata": {},
     "outputs": [
      {
       "html": [
        "<div style=\"max-height:1000px;max-width:1500px;overflow:auto;\">\n",
        "<table border=\"1\" class=\"dataframe\">\n",
        "  <thead>\n",
        "    <tr style=\"text-align: right;\">\n",
        "      <th></th>\n",
        "      <th>count(*)</th>\n",
        "    </tr>\n",
        "  </thead>\n",
        "  <tbody>\n",
        "    <tr>\n",
        "      <th>0</th>\n",
        "      <td> 55598</td>\n",
        "    </tr>\n",
        "  </tbody>\n",
        "</table>\n",
        "</div>"
       ],
       "metadata": {},
       "output_type": "pyout",
       "prompt_number": 7,
       "text": [
        "   count(*)\n",
        "0     55598"
       ]
      }
     ],
     "prompt_number": 7
    },
    {
     "cell_type": "markdown",
     "metadata": {},
     "source": [
      "With only 55K records, this dataset is easy to load completely into memory, and we can do that with a simple query. \n"
     ]
    },
    {
     "cell_type": "code",
     "collapsed": false,
     "input": [
      "bus = p.select('SELECT * FROM businesses').pandas\n",
      "bus.head()"
     ],
     "language": "python",
     "metadata": {},
     "outputs": [],
     "prompt_number": 8
    },
    {
     "cell_type": "code",
     "collapsed": false,
     "input": [],
     "language": "python",
     "metadata": {},
     "outputs": []
    }
   ],
   "metadata": {}
  }
 ]
}