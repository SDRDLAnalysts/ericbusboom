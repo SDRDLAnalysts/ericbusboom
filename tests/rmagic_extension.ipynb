{
 "metadata": {
  "name": "",
  "signature": "sha256:981083d88b8a3df68dafc831567dd8953f29943df9accf35da647e24aed55387"
 },
 "nbformat": 3,
 "nbformat_minor": 0,
 "worksheets": [
  {
   "cells": [
    {
     "cell_type": "heading",
     "level": 1,
     "metadata": {},
     "source": [
      "Rmagic Functions Extension"
     ]
    },
    {
     "cell_type": "code",
     "collapsed": false,
     "input": [
      "%pylab inline"
     ],
     "language": "python",
     "metadata": {},
     "outputs": [
      {
       "output_type": "stream",
       "stream": "stdout",
       "text": [
        "Populating the interactive namespace from numpy and matplotlib\n"
       ]
      }
     ],
     "prompt_number": 1
    },
    {
     "cell_type": "heading",
     "level": 2,
     "metadata": {},
     "source": [
      "Line magics"
     ]
    },
    {
     "cell_type": "markdown",
     "metadata": {},
     "source": [
      "IPython has an `rmagic` extension that contains a some magic functions for working with R via rpy2. This extension can be loaded using the `%load_ext` magic as follows:"
     ]
    },
    {
     "cell_type": "code",
     "collapsed": true,
     "input": [
      "# This is the old line to load\n",
      "#%load_ext rmagic \n",
      "\n",
      "# This is the new one\n",
      "%load_ext rpy2.ipython"
     ],
     "language": "python",
     "metadata": {},
     "outputs": [],
     "prompt_number": 2
    },
    {
     "cell_type": "markdown",
     "metadata": {},
     "source": [
      "A typical use case one imagines is having some numpy arrays, wanting to compute some statistics of interest on these\n",
      " arrays and return the result back to python. Let's suppose we just want to fit a simple linear model to a scatterplot."
     ]
    },
    {
     "cell_type": "code",
     "collapsed": false,
     "input": [
      "import numpy as np\n",
      "import pylab\n",
      "X = np.array([0,1,2,3,4])\n",
      "Y = np.array([3,5,4,6,7])\n",
      "pylab.scatter(X, Y)"
     ],
     "language": "python",
     "metadata": {},
     "outputs": [
      {
       "metadata": {},
       "output_type": "pyout",
       "prompt_number": 3,
       "text": [
        "<matplotlib.collections.PathCollection at 0x10b940f10>"
       ]
      },
      {
       "metadata": {},
       "output_type": "display_data",
       "png": "[encoded data removed]",
       "text": [
        "<matplotlib.figure.Figure at 0x107079b90>"
       ]
      }
     ],
     "prompt_number": 3
    },
    {
     "cell_type": "markdown",
     "metadata": {},
     "source": [
      "We can accomplish this by first pushing variables to R, fitting a model and returning the results. The line magic %Rpush copies its arguments to variables of the same name in rpy2. The %R line magic evaluates the string in rpy2 and returns the results. In this case, the coefficients of a linear model."
     ]
    },
    {
     "cell_type": "code",
     "collapsed": false,
     "input": [
      "%Rpush X Y\n",
      "%R lm(Y~X)$coef"
     ],
     "language": "python",
     "metadata": {},
     "outputs": [
      {
       "metadata": {},
       "output_type": "pyout",
       "prompt_number": 4,
       "text": [
        "<FloatVector - Python:0x10b6d9c20 / R:0x7fed1961aaa0>\n",
        "[3.200000, 0.900000]"
       ]
      }
     ],
     "prompt_number": 4
    },
    {
     "cell_type": "markdown",
     "metadata": {},
     "source": [
      "We can check that this is correct fairly easily:"
     ]
    },
    {
     "cell_type": "code",
     "collapsed": false,
     "input": [
      "Xr = X - X.mean(); Yr = Y - Y.mean()\n",
      "slope = (Xr*Yr).sum() / (Xr**2).sum()\n",
      "intercept = Y.mean() - X.mean() * slope\n",
      "(intercept, slope)"
     ],
     "language": "python",
     "metadata": {},
     "outputs": [
      {
       "metadata": {},
       "output_type": "pyout",
       "prompt_number": 5,
       "text": [
        "(3.2000000000000002, 0.90000000000000002)"
       ]
      }
     ],
     "prompt_number": 5
    },
    {
     "cell_type": "markdown",
     "metadata": {},
     "source": [
      "It is also possible to return more than one value with %R."
     ]
    },
    {
     "cell_type": "code",
     "collapsed": false,
     "input": [
      "%R resid(lm(Y~X)); coef(lm(X~Y))\n"
     ],
     "language": "python",
     "metadata": {},
     "outputs": [
      {
       "metadata": {},
       "output_type": "pyout",
       "prompt_number": 6,
       "text": [
        "<FloatVector - Python:0x10b6d9cb0 / R:0x7fed1ada1aa8>\n",
        "[-2.500000, 0.900000]"
       ]
      }
     ],
     "prompt_number": 6
    },
    {
     "cell_type": "markdown",
     "metadata": {},
     "source": [
      "One can also easily capture the results of %R into python objects. Like R, the return value of this multiline expression (multiline in the sense that it is separated by ';') is the final value, which is \n",
      "the *coef(lm(X~Y))*. To pull other variables from R, there is one more magic."
     ]
    },
    {
     "cell_type": "markdown",
     "metadata": {},
     "source": [
      "There are two more line magics, %Rpull and %Rget. Both are useful after some R code has been executed and there are variables\n",
      "in the rpy2 namespace that one would like to retrieve. The main difference is that one\n",
      " returns the value (%Rget), while the other pulls it to self.shell.user_ns (%Rpull). Imagine we've stored the results\n",
      "of some calculation in the variable \"a\" in rpy2's namespace. By using the %R magic, we can obtain these results and\n",
      "store them in b. We can also pull them directly to user_ns with %Rpull. They are both views on the same data."
     ]
    },
    {
     "cell_type": "code",
     "collapsed": false,
     "input": [
      "b = %R a=resid(lm(Y~X))\n",
      "%Rpull a\n",
      "print a, type(a), dir(a)\n",
      "              \n",
      "#assert id(b.data) == id(a.data)\n",
      "\n",
      "%R -o a"
     ],
     "language": "python",
     "metadata": {},
     "outputs": [
      {
       "output_type": "stream",
       "stream": "stdout",
       "text": [
        "   1    2    3    4    5 \n",
        "-0.2  0.9 -1.0  0.1  0.2 \n",
        " <class 'rpy2.robjects.vectors.Array'> ['_Array__dim_get', '_Array__dim_set', '_Array__dimnames_get', '_Array__dimnames_set', '_RObjectMixin__close', '_RObjectMixin__fifo', '_RObjectMixin__file', '_RObjectMixin__rclass', '_RObjectMixin__rclass_set', '_RObjectMixin__readlines', '_RObjectMixin__show', '_RObjectMixin__sink', '_RObjectMixin__tempfile', '_RObjectMixin__unlink', '__add__', '__array_struct__', '__class__', '__deepcopy__', '__delattr__', '__delitem__', '__delslice__', '__dict__', '__doc__', '__format__', '__getattribute__', '__getitem__', '__getslice__', '__getstate__', '__hash__', '__init__', '__len__', '__module__', '__new__', '__reduce__', '__reduce_ex__', '__repr__', '__repr_content__', '__rname__', '__setattr__', '__setitem__', '__setslice__', '__setstate__', '__sexp__', '__sexp_refcount__', '__sizeof__', '__str__', '__subclasshook__', '__weakref__', '_dim_get', '_dim_set', '_dimnames_get', '_dimnames_set', '_isarray', '_names_get', '_names_set', '_rclass_get', '_rclass_set', '_sample', 'dim', 'dimnames', 'do_slot', 'do_slot_assign', 'index', 'items', 'list_attrs', 'named', 'names', 'r_repr', 'rclass', 'rid', 'ro', 'rsame', 'rx', 'rx2', 'sample', 'typeof']\n"
       ]
      }
     ],
     "prompt_number": 12
    },
    {
     "cell_type": "markdown",
     "metadata": {},
     "source": [
      "%Rpull is equivalent to calling %R with just -o\n"
     ]
    },
    {
     "cell_type": "code",
     "collapsed": false,
     "input": [
      "%R d=resid(lm(Y~X)); e=coef(lm(Y~X))\n",
      "%R -o d -o e\n",
      "%Rpull e\n",
      "print d\n",
      "print e\n",
      "import numpy as np\n",
      "np.testing.assert_almost_equal(d, a)"
     ],
     "language": "python",
     "metadata": {},
     "outputs": []
    },
    {
     "cell_type": "markdown",
     "metadata": {},
     "source": [
      "On the other hand %Rpush is equivalent to calling %R with just -i and no trailing code."
     ]
    },
    {
     "cell_type": "code",
     "collapsed": false,
     "input": [
      "A = np.arange(20)\n",
      "%R -i A\n",
      "%R mean(A)\n"
     ],
     "language": "python",
     "metadata": {},
     "outputs": []
    },
    {
     "cell_type": "markdown",
     "metadata": {},
     "source": [
      "The magic %Rget retrieves one variable from R."
     ]
    },
    {
     "cell_type": "code",
     "collapsed": false,
     "input": [
      "%Rget A"
     ],
     "language": "python",
     "metadata": {},
     "outputs": []
    },
    {
     "cell_type": "heading",
     "level": 2,
     "metadata": {},
     "source": [
      "Plotting and capturing output"
     ]
    },
    {
     "cell_type": "markdown",
     "metadata": {},
     "source": [
      "R's console (i.e. its stdout() connection) is captured by ipython, as are any plots which are published as PNG files like the notebook with arguments --pylab inline. As a call to %R may produce a return value (see above) we must ask what happens to a magic like the one below. The R code specifies that something is published to the notebook. If anything is published to the notebook, that call to %R returns None."
     ]
    },
    {
     "cell_type": "code",
     "collapsed": false,
     "input": [
      "v1 = %R plot(X,Y); print(summary(lm(Y~X))); vv=mean(X)*mean(Y)\n",
      "print 'v1 is:', v1\n",
      "v2 = %R mean(X)*mean(Y)\n",
      "print 'v2 is:', v2"
     ],
     "language": "python",
     "metadata": {},
     "outputs": []
    },
    {
     "cell_type": "heading",
     "level": 2,
     "metadata": {},
     "source": [
      "What value is returned from %R?"
     ]
    },
    {
     "cell_type": "markdown",
     "metadata": {},
     "source": [
      "Some calls have no particularly interesting return value, the magic %R will not return anything in this case. The return value in rpy2 is actually NULL so %R returns None."
     ]
    },
    {
     "cell_type": "code",
     "collapsed": false,
     "input": [
      "v = %R plot(X,Y)\n",
      "assert v == None"
     ],
     "language": "python",
     "metadata": {},
     "outputs": []
    },
    {
     "cell_type": "markdown",
     "metadata": {},
     "source": [
      "Also, if the return value of a call to %R (in line mode) has just been printed to the console, then its value is also not returned."
     ]
    },
    {
     "cell_type": "code",
     "collapsed": false,
     "input": [
      "v = %R print(X)\n",
      "assert v == None"
     ],
     "language": "python",
     "metadata": {},
     "outputs": []
    },
    {
     "cell_type": "markdown",
     "metadata": {},
     "source": [
      "But, if the last value did not print anything to console, the value is returned:\n"
     ]
    },
    {
     "cell_type": "code",
     "collapsed": false,
     "input": [
      "v = %R print(summary(X)); X\n",
      "print 'v:', v"
     ],
     "language": "python",
     "metadata": {},
     "outputs": []
    },
    {
     "cell_type": "markdown",
     "metadata": {},
     "source": [
      "The return value can be suppressed by a trailing ';' or an -n argument.\n"
     ]
    },
    {
     "cell_type": "code",
     "collapsed": true,
     "input": [
      "%R -n X"
     ],
     "language": "python",
     "metadata": {},
     "outputs": []
    },
    {
     "cell_type": "code",
     "collapsed": true,
     "input": [
      "%R X; "
     ],
     "language": "python",
     "metadata": {},
     "outputs": []
    },
    {
     "cell_type": "heading",
     "level": 2,
     "metadata": {},
     "source": [
      "Cell level magic"
     ]
    },
    {
     "cell_type": "markdown",
     "metadata": {},
     "source": [
      "Often, we will want to do more than a simple linear regression model. There may be several lines of R code that we want to \n",
      "use before returning to python. This is the cell-level magic.\n",
      "\n",
      "\n",
      "For the cell level magic, inputs can be passed via the -i or --inputs argument in the line. These variables are copied \n",
      "from the shell namespace to R's namespace using rpy2.robjects.r.assign. It would be nice not to have to copy these into R: rnumpy ( http://bitbucket.org/njs/rnumpy/wiki/API ) has done some work to limit or at least make transparent the number of copies of an array. This seems like a natural thing to try to build on. Arrays can be output from R via the -o or --outputs argument in the line. All other arguments are sent to R's png function, which is the graphics device used to create the plots.\n",
      "\n",
      "We can redo the above calculations in one ipython cell. We might also want to add some output such as a summary\n",
      " from R or perhaps the standard plotting diagnostics of the lm."
     ]
    },
    {
     "cell_type": "code",
     "collapsed": false,
     "input": [
      "%%R -i X,Y -o XYcoef\n",
      "XYlm = lm(Y~X)\n",
      "XYcoef = coef(XYlm)\n",
      "print(summary(XYlm))\n",
      "par(mfrow=c(2,2))\n",
      "plot(XYlm)"
     ],
     "language": "python",
     "metadata": {},
     "outputs": []
    },
    {
     "cell_type": "heading",
     "level": 2,
     "metadata": {},
     "source": [
      "Passing data back and forth"
     ]
    },
    {
     "cell_type": "markdown",
     "metadata": {},
     "source": [
      "Currently, data is passed through RMagics.pyconverter when going from python to R and RMagics.Rconverter when \n",
      "going from R to python. These currently default to numpy.ndarray. Future work will involve writing better converters, most likely involving integration with http://pandas.sourceforge.net.\n",
      "\n",
      "Passing ndarrays into R seems to require a copy, though once an object is returned to python, this object is NOT copied, and it is possible to change its values.\n"
     ]
    },
    {
     "cell_type": "code",
     "collapsed": true,
     "input": [
      "seq1 = np.arange(10)"
     ],
     "language": "python",
     "metadata": {},
     "outputs": []
    },
    {
     "cell_type": "code",
     "collapsed": false,
     "input": [
      "%%R -i seq1 -o seq2\n",
      "seq2 = rep(seq1, 2)\n",
      "print(seq2)"
     ],
     "language": "python",
     "metadata": {},
     "outputs": []
    },
    {
     "cell_type": "code",
     "collapsed": false,
     "input": [
      "seq2[::2] = 0\n",
      "seq2"
     ],
     "language": "python",
     "metadata": {},
     "outputs": []
    },
    {
     "cell_type": "code",
     "collapsed": false,
     "input": [
      "%%R\n",
      "print(seq2)"
     ],
     "language": "python",
     "metadata": {},
     "outputs": []
    },
    {
     "cell_type": "markdown",
     "metadata": {},
     "source": [
      "Once the array data has been passed to R, modifring its contents does not modify R's copy of the data."
     ]
    },
    {
     "cell_type": "code",
     "collapsed": false,
     "input": [
      "seq1[0] = 200\n",
      "%R print(seq1)"
     ],
     "language": "python",
     "metadata": {},
     "outputs": []
    },
    {
     "cell_type": "markdown",
     "metadata": {},
     "source": [
      "But, if we pass data as both input and output, then the value of \"data\" in user_ns will be overwritten and the\n",
      "new array will be a view of the data in R's copy."
     ]
    },
    {
     "cell_type": "code",
     "collapsed": false,
     "input": [
      "print seq1\n",
      "%R -i seq1 -o seq1\n",
      "print seq1\n",
      "seq1[0] = 200\n",
      "%R print(seq1)\n",
      "seq1_view = %R seq1\n",
      "assert(id(seq1_view.data) == id(seq1.data))"
     ],
     "language": "python",
     "metadata": {},
     "outputs": []
    },
    {
     "cell_type": "heading",
     "level": 2,
     "metadata": {},
     "source": [
      "Exception handling\n"
     ]
    },
    {
     "cell_type": "markdown",
     "metadata": {},
     "source": [
      "Exceptions are handled by passing back rpy2's exception and the line that triggered it."
     ]
    },
    {
     "cell_type": "code",
     "collapsed": false,
     "input": [
      "try:\n",
      "    %R -n nosuchvar\n",
      "except Exception as e:\n",
      "    print e.message\n",
      "    pass"
     ],
     "language": "python",
     "metadata": {},
     "outputs": []
    },
    {
     "cell_type": "heading",
     "level": 2,
     "metadata": {},
     "source": [
      "Structured arrays and data frames\n"
     ]
    },
    {
     "cell_type": "markdown",
     "metadata": {},
     "source": [
      "In R, data frames play an important role as they allow array-like objects of mixed type with column names (and row names). In bumpy, the closest analogy is a structured array with named fields. In future work, it would be nice to use pandas to return full-fledged DataFrames from rpy2. In the mean time, structured arrays can be passed back and forth with the -d flag to %R, %Rpull, and %Rget"
     ]
    },
    {
     "cell_type": "code",
     "collapsed": true,
     "input": [
      "datapy= np.array([(1, 2.9, 'a'), (2, 3.5, 'b'), (3, 2.1, 'c')],\n",
      "          dtype=[('x', '<i4'), ('y', '<f8'), ('z', '|S1')])\n"
     ],
     "language": "python",
     "metadata": {},
     "outputs": []
    },
    {
     "cell_type": "code",
     "collapsed": true,
     "input": [
      "%%R -i datapy -d datar\n",
      "datar = datapy"
     ],
     "language": "python",
     "metadata": {},
     "outputs": []
    },
    {
     "cell_type": "code",
     "collapsed": false,
     "input": [
      "datar"
     ],
     "language": "python",
     "metadata": {},
     "outputs": []
    },
    {
     "cell_type": "code",
     "collapsed": false,
     "input": [
      "%R datar2 = datapy\n",
      "%Rpull -d datar2\n",
      "datar2"
     ],
     "language": "python",
     "metadata": {},
     "outputs": []
    },
    {
     "cell_type": "code",
     "collapsed": false,
     "input": [
      "%Rget -d datar2"
     ],
     "language": "python",
     "metadata": {},
     "outputs": []
    },
    {
     "cell_type": "markdown",
     "metadata": {},
     "source": [
      "For arrays without names, the -d argument has no effect because the R object has no colnames or names."
     ]
    },
    {
     "cell_type": "code",
     "collapsed": false,
     "input": [
      "Z = np.arange(6)\n",
      "%R -i Z\n",
      "%Rget -d Z"
     ],
     "language": "python",
     "metadata": {},
     "outputs": []
    },
    {
     "cell_type": "markdown",
     "metadata": {},
     "source": [
      "For mixed-type data frames in R, if the -d flag is not used, then an array of a single type is returned and\n",
      "its value is transposed. This would be nice to fix, but it seems something that should be fixed at the rpy2 level (See: https://bitbucket.org/lgautier/rpy2/issue/44/numpyrecarray-as-dataframe)"
     ]
    },
    {
     "cell_type": "code",
     "collapsed": false,
     "input": [
      "%Rget datar2"
     ],
     "language": "python",
     "metadata": {},
     "outputs": []
    },
    {
     "cell_type": "code",
     "collapsed": true,
     "input": [],
     "language": "python",
     "metadata": {},
     "outputs": []
    }
   ],
   "metadata": {}
  }
 ]
}