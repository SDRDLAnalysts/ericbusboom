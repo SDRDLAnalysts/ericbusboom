{
 "metadata": {
  "name": "",
  "signature": "sha256:5eba544ef3fd26c8b6a1358f053c4136e88828ca4e8222703e0341d0000dc93c"
 },
 "nbformat": 3,
 "nbformat_minor": 0,
 "worksheets": [
  {
   "cells": [
    {
     "cell_type": "heading",
     "level": 1,
     "metadata": {},
     "source": [
      "Crime Monthly Rhythm Maps"
     ]
    },
    {
     "cell_type": "markdown",
     "metadata": {},
     "source": [
      "About"
     ]
    },
    {
     "cell_type": "code",
     "collapsed": false,
     "input": [
      "%matplotlib inline\n",
      "import numpy as np\n",
      "import pandas as pd\n",
      "import matplotlib.pyplot as plt\n",
      "import ambry\n",
      "\n",
      "l  =  ambry.ilibrary()\n",
      "\n",
      "incidents = l.get('clarinova.com-crime-incidents-casnd-linked-crimes').partition\n",
      "placestats = l.get('clarinova.com-places-casnd-areastats').partition\n",
      "attach_name = incidents.attach(placestats, 'placestats')\n"
     ],
     "language": "python",
     "metadata": {},
     "outputs": [
      {
       "output_type": "stream",
       "stream": "stderr",
       "text": [
        "/usr/local/lib/python2.7/dist-packages/pandas/io/excel.py:626: UserWarning: Installed openpyxl is not supported at this time. Use >=1.6.1 and <2.0.0.\n",
        "  .format(openpyxl_compat.start_ver, openpyxl_compat.stop_ver))\n"
       ]
      }
     ],
     "prompt_number": 1
    },
    {
     "cell_type": "code",
     "collapsed": false,
     "input": [
      "q = \"\"\"\n",
      "SELECT crimes.*, \n",
      "    strftime('%W', datetime) AS week,\n",
      "    strftime('%M', datetime) AS min,\n",
      "    --(CAST(hour AS FLOAT) + CAST(minute AS FLOAT) / 60) as dtime,\n",
      "    city_stats.pop as city_pop, city_stats.land as city_area, \n",
      "    CAST(city_stats.pop AS REAL)/ CAST(city_stats.land AS REAL) as city_density,\n",
      "    community_stats.pop as community_pop, community_stats.land as community_area, community_stats.name as community_name, \n",
      "    CAST(community_stats.pop AS REAL)/ CAST(community_stats.land AS REAL)*1000000 as community_density \n",
      "FROM crimes\n",
      "LEFT JOIN placestats.areastats AS city_stats ON city_stats.type = 'city' AND city_stats.code = crimes.city\n",
      "LEFT JOIN placestats.areastats AS community_stats ON community_stats.type = 'community' AND community_stats.code = crimes.community\n",
      "WHERE community != '-'\n",
      "\"\"\"\n",
      "\n",
      "inct = incidents.select(q).pandas"
     ],
     "language": "python",
     "metadata": {},
     "outputs": [],
     "prompt_number": 2
    },
    {
     "cell_type": "code",
     "collapsed": false,
     "input": [
      "inct['dtime'] = inct['hour'].astype('float64') + inct['min'].astype('float64')/60.0\n",
      "inct['qtime'] = (inct['dtime'] * 4).astype('int')"
     ],
     "language": "python",
     "metadata": {},
     "outputs": [],
     "prompt_number": 3
    },
    {
     "cell_type": "code",
     "collapsed": false,
     "input": [
      "from math import ceil\n",
      "\n",
      "def plot_rhythm(df, legends = None, communities = None, incident_type=None, title=None, filename=None,\n",
      "                axes_fields=['year','week'], ncols  = 2, scale = 1.0, height=2.5):\n",
      "    \n",
      "    import numpy as np\n",
      "    import matplotlib.pyplot as plt\n",
      "\n",
      "    if not legends:\n",
      "        legends = sorted([ l for l in df.legend.unique() if l.strip() and l not in ('-', 'ARSON','HOMICIDE') ])\n",
      "\n",
      "    if not communities:\n",
      "        communities = [None]\n",
      "        \n",
      "    c = (len([l for l in legends if l is not None]) *\n",
      "         len([ c for c in communities if c is not None]))\n",
      "\n",
      "    if c == 0:\n",
      "        c = 1\n",
      "    \n",
      "    nrows = ceil(float(c)/ncols)\n",
      "\n",
      "    cmap = plt.get_cmap('YlOrRd', 500)\n",
      "\n",
      "    fig, axes = plt.subplots(nrows=int(nrows), ncols=int(ncols), figsize=(10,10), \n",
      "                             squeeze=True, sharex=False, sharey=False)\n",
      "\n",
      "    if c == 1:\n",
      "        axes = [axes] # subplot returns scalar in c=1 case. \n",
      "    else:\n",
      "        axes = axes.ravel() # Convert 2D array to 1D\n",
      "    \n",
      "    fig.set_size_inches(12.0*scale,nrows*height*scale)\n",
      "    \n",
      "    plt.tight_layout(h_pad=2)\n",
      "    fig.subplots_adjust(top=0.90)\n",
      "    i = 0\n",
      "    for community in communities:\n",
      "        for legend in legends:\n",
      "\n",
      "            sub = df\n",
      "            gtitles = []\n",
      "            \n",
      "            if legend:\n",
      "                sub = sub[sub.legend == legend]\n",
      "                gtitles.append(legend.title())\n",
      "\n",
      "            if community:\n",
      "                sub = sub[sub.community == community]\n",
      "                gtitles.append(community)\n",
      "                \n",
      "            if incident_type:\n",
      "                sub = sub[sub.type == incident_type]\n",
      "\n",
      "            #axes[i].set_title(' / '.join(gtitles))\n",
      "\n",
      "            if len(sub) < 40:\n",
      "                i += 1\n",
      "                continue\n",
      "\n",
      "            heatg = sub.groupby(axes_fields)\n",
      "            hgcounts = heatg.count()['id'].unstack(axes_fields[0]).fillna(0)\n",
      "\n",
      "            # Converting to an array puts it into a for that\n",
      "            # matplotlib expects. This probably only works b/c the\n",
      "            # hours and days of week are 1-based indexes. \n",
      "            axes[i].pcolormesh(np.array(hgcounts.T),cmap=cmap)\n",
      "            \n",
      "            i += 1\n",
      "            \n",
      "        \n",
      "    if title:\n",
      "        fig.suptitle(title, fontsize=18, fontweight='bold')\n",
      "        \n",
      "    if filename:\n",
      "        fig.savefig(filename)"
     ],
     "language": "python",
     "metadata": {},
     "outputs": [],
     "prompt_number": 4
    },
    {
     "cell_type": "code",
     "collapsed": false,
     "input": [
      "list(inct['legend'].unique())\n",
      "legends = [u'ASSAULT',u'ROBBERY',u'VEHICLE BREAK-IN/THEFT', u'BURGLARY',\n",
      "        u'THEFT/LARCENY',u'SEX CRIMES',u'DRUGS/ALCOHOL VIOLATIONS',u'DUI']"
     ],
     "language": "python",
     "metadata": {},
     "outputs": [],
     "prompt_number": 5
    },
    {
     "cell_type": "code",
     "collapsed": false,
     "input": [
      "plot_rhythm(inct, ncols = 2, axes_fields=['hour','week'], legends=legends)"
     ],
     "language": "python",
     "metadata": {},
     "outputs": [
      {
       "ename": "AttributeError",
       "evalue": "'numpy.ndarray' object has no attribute 'set_title'",
       "output_type": "pyerr",
       "traceback": [
        "\u001b[1;31m---------------------------------------------------------------------------\u001b[0m\n\u001b[1;31mAttributeError\u001b[0m                            Traceback (most recent call last)",
        "\u001b[1;32m<ipython-input-6-49dbce511607>\u001b[0m in \u001b[0;36m<module>\u001b[1;34m()\u001b[0m\n\u001b[1;32m----> 1\u001b[1;33m \u001b[0mplot_rhythm\u001b[0m\u001b[1;33m(\u001b[0m\u001b[0minct\u001b[0m\u001b[1;33m,\u001b[0m \u001b[0mncols\u001b[0m \u001b[1;33m=\u001b[0m \u001b[1;36m2\u001b[0m\u001b[1;33m,\u001b[0m \u001b[0maxes_fields\u001b[0m\u001b[1;33m=\u001b[0m\u001b[1;33m[\u001b[0m\u001b[1;34m'hour'\u001b[0m\u001b[1;33m,\u001b[0m\u001b[1;34m'week'\u001b[0m\u001b[1;33m]\u001b[0m\u001b[1;33m,\u001b[0m \u001b[0mlegends\u001b[0m\u001b[1;33m=\u001b[0m\u001b[0mlegends\u001b[0m\u001b[1;33m)\u001b[0m\u001b[1;33m\u001b[0m\u001b[0m\n\u001b[0m",
        "\u001b[1;32m<ipython-input-4-640435671ed1>\u001b[0m in \u001b[0;36mplot_rhythm\u001b[1;34m(df, legends, communities, incident_type, title, filename, axes_fields, ncols, scale, height)\u001b[0m\n\u001b[0;32m     53\u001b[0m                 \u001b[0msub\u001b[0m \u001b[1;33m=\u001b[0m \u001b[0msub\u001b[0m\u001b[1;33m[\u001b[0m\u001b[0msub\u001b[0m\u001b[1;33m.\u001b[0m\u001b[0mtype\u001b[0m \u001b[1;33m==\u001b[0m \u001b[0mincident_type\u001b[0m\u001b[1;33m]\u001b[0m\u001b[1;33m\u001b[0m\u001b[0m\n\u001b[0;32m     54\u001b[0m \u001b[1;33m\u001b[0m\u001b[0m\n\u001b[1;32m---> 55\u001b[1;33m             \u001b[0maxes\u001b[0m\u001b[1;33m[\u001b[0m\u001b[0mi\u001b[0m\u001b[1;33m]\u001b[0m\u001b[1;33m.\u001b[0m\u001b[0mset_title\u001b[0m\u001b[1;33m(\u001b[0m\u001b[1;34m' / '\u001b[0m\u001b[1;33m.\u001b[0m\u001b[0mjoin\u001b[0m\u001b[1;33m(\u001b[0m\u001b[0mgtitles\u001b[0m\u001b[1;33m)\u001b[0m\u001b[1;33m)\u001b[0m\u001b[1;33m\u001b[0m\u001b[0m\n\u001b[0m\u001b[0;32m     56\u001b[0m \u001b[1;33m\u001b[0m\u001b[0m\n\u001b[0;32m     57\u001b[0m             \u001b[1;32mif\u001b[0m \u001b[0mlen\u001b[0m\u001b[1;33m(\u001b[0m\u001b[0msub\u001b[0m\u001b[1;33m)\u001b[0m \u001b[1;33m<\u001b[0m \u001b[1;36m40\u001b[0m\u001b[1;33m:\u001b[0m\u001b[1;33m\u001b[0m\u001b[0m\n",
        "\u001b[1;31mAttributeError\u001b[0m: 'numpy.ndarray' object has no attribute 'set_title'"
       ]
      },
      {
       "metadata": {},
       "output_type": "display_data",
       "png": "[encoded data removed]",
       "text": [
        "<matplotlib.figure.Figure at 0x3ff08e50>"
       ]
      }
     ],
     "prompt_number": 6
    },
    {
     "cell_type": "code",
     "collapsed": false,
     "input": [
      "plot_rhythm(inct, ncols = 2, axes_fields=['year','week'], legends=legends, height=2)"
     ],
     "language": "python",
     "metadata": {},
     "outputs": []
    },
    {
     "cell_type": "code",
     "collapsed": false,
     "input": [
      "plot_rhythm(inct, ncols = 4, communities = ['SanPCF'], axes_fields=['hour','week'])"
     ],
     "language": "python",
     "metadata": {},
     "outputs": []
    },
    {
     "cell_type": "code",
     "collapsed": false,
     "input": [
      "plot_rhythm(inct[inct.community == 'SanPCF'], ncols = 4, axes_fields=['hour','week'])"
     ],
     "language": "python",
     "metadata": {},
     "outputs": []
    },
    {
     "cell_type": "code",
     "collapsed": false,
     "input": [
      "communities = ['SanDOW','SanMDC','SanPCF','SanSOT','SanGRE','SanCLA','SanUPT','SanENC','SanUNV','SanMID',\n",
      "               'SanMIR','SanSKY','SanOAT', 'SanCOL', 'SanLAJ']\n",
      "all_communities = list(inct['community'].unique())\n",
      "drug_communities = ['SanPCF','SanMSS','SanUNV','SanMSH','SanOCN','SanMIS']\n",
      "assault_communities = ['SanENC', 'SanMDC', 'SanPCF', 'SanDOW', 'SanGRE']\n",
      "sex_communities = ['SanDOW', 'SanMDC', 'SanGRE', 'SanCOL', 'SanMDS', 'SanBAR' ]"
     ],
     "language": "python",
     "metadata": {},
     "outputs": []
    },
    {
     "cell_type": "code",
     "collapsed": false,
     "input": [
      "plot_rhythm(inct[inct.description == 'PROSTITUTION' ], ncols = 3, height=5, scale = .6, \n",
      "            legends = ['SEX CRIMES'], \n",
      "            communities=sex_communities, axes_fields=['hour','dow'])"
     ],
     "language": "python",
     "metadata": {},
     "outputs": []
    },
    {
     "cell_type": "code",
     "collapsed": false,
     "input": [
      "plot_rhythm(inct, ncols = 2, legends = ['DRUGS/ALCOHOL VIOLATIONS'], communities=communities, \n",
      "            axes_fields=['hour','week'], incident_type='CITATION')"
     ],
     "language": "python",
     "metadata": {},
     "outputs": []
    },
    {
     "cell_type": "code",
     "collapsed": false,
     "input": [
      "plot_rhythm(inct[inct.community == 'SanPCF'], ncols = 4, axes_fields=['hour','week'], incident_type='CITATION')"
     ],
     "language": "python",
     "metadata": {},
     "outputs": []
    },
    {
     "cell_type": "code",
     "collapsed": false,
     "input": [
      "import seaborn as sns\n",
      "\n",
      "x = inct[inct.legend == 'DRUGS/ALCOHOL VIOLATIONS']\n",
      "\n",
      "sns.kdeplot(x.week, x.hour);\n"
     ],
     "language": "python",
     "metadata": {},
     "outputs": []
    },
    {
     "cell_type": "code",
     "collapsed": false,
     "input": [
      "x = inct[(inct.legend == 'DRUGS/ALCOHOL VIOLATIONS') & (inct.community == 'SanPCF')]\n",
      "sns.set_style(\"darkgrid\")\n",
      "sns.kdeplot(x.week, x.hour);"
     ],
     "language": "python",
     "metadata": {},
     "outputs": []
    },
    {
     "cell_type": "code",
     "collapsed": false,
     "input": [
      "x = inct[(inct.legend == 'DRUGS/ALCOHOL VIOLATIONS') & (inct.community == 'SanUNV')]\n",
      "\n",
      "sns.kdeplot(x.week, x.hour);"
     ],
     "language": "python",
     "metadata": {},
     "outputs": []
    },
    {
     "cell_type": "code",
     "collapsed": false,
     "input": [
      "plot_rhythm(inct, ncols = 4, legends = ['SEX CRIMES'], communities=all_communities, \n",
      "            axes_fields=['hour','dow'], incident_type='ARREST')"
     ],
     "language": "python",
     "metadata": {},
     "outputs": []
    },
    {
     "cell_type": "code",
     "collapsed": false,
     "input": [
      "x = inct[(inct.legend == 'DRUGS/ALCOHOL VIOLATIONS') & (inct.community == 'SanCLA')]\n",
      "\n",
      "sns.kdeplot(x.week, x.hour);"
     ],
     "language": "python",
     "metadata": {},
     "outputs": []
    },
    {
     "cell_type": "code",
     "collapsed": false,
     "input": [
      "x = inct[(inct.legend == 'DRUGS/ALCOHOL VIOLATIONS') & (inct.community == 'SanGRE')]\n",
      "\n",
      "sns.kdeplot(x.week, x.hour);"
     ],
     "language": "python",
     "metadata": {},
     "outputs": []
    },
    {
     "cell_type": "code",
     "collapsed": false,
     "input": [],
     "language": "python",
     "metadata": {},
     "outputs": []
    }
   ],
   "metadata": {}
  }
 ]
}